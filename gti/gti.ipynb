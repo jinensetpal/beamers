{
 "cells": [
  {
   "cell_type": "markdown",
   "metadata": {
    "slideshow": {
     "slide_type": "slide"
    }
   },
   "source": [
    "## Copyright: <a href=\"https://www.cs.purdue.edu/homes/ribeirob/\">Bruno Ribeiro</a> with help by S. Chandra Mouli\n",
    "### Adapted for ML@Purdue Reading Group\n",
    "----\n",
    "\n",
    "# Learning G-Invariant Representations"
   ]
  },
  {
   "cell_type": "markdown",
   "metadata": {},
   "source": [
    "## Setup"
   ]
  },
  {
   "cell_type": "code",
   "execution_count": 1,
   "metadata": {},
   "outputs": [
    {
     "name": "stderr",
     "output_type": "stream",
     "text": [
      "/tmp/ipykernel_16413/1135210783.py:20: FutureWarning: You are using `torch.load` with `weights_only=False` (the current default value), which uses the default pickle module implicitly. It is possible to construct malicious pickle data which will execute arbitrary code during unpickling (See https://github.com/pytorch/pytorch/blob/main/SECURITY.md#untrusted-models for more details). In a future release, the default value for `weights_only` will be flipped to `True`. This limits the functions that could be executed during unpickling. Arbitrary objects will no longer be allowed to be loaded via this mode unless they are explicitly allowlisted by the user via `torch.serialization.add_safe_globals`. We recommend you start setting `weights_only=True` for any use case where you don't have full control of the loaded file. Please open an issue on GitHub for any issues related to this experimental feature.\n",
      "  image_tensor, label_tensor = torch.load(\"mnist.pt\")\n"
     ]
    }
   ],
   "source": [
    "# All imports.\n",
    "import torch\n",
    "import numpy as onp\n",
    "from sklearn.model_selection import train_test_split\n",
    "import seaborn as sns\n",
    "import matplotlib.pyplot as plt\n",
    "import pandas as pd\n",
    "import multiprocessing as mp\n",
    "from functools import partial\n",
    "from sklearn.metrics import balanced_accuracy_score\n",
    "import torchvision.transforms.v2 as transforms\n",
    "import copy\n",
    "\n",
    "\n",
    "# Use notebook context for seaborn.\n",
    "#sns.set_theme(context=\"notebook\")\n",
    "\n",
    "\n",
    "# Load MNIST data.\n",
    "image_tensor, label_tensor = torch.load(\"mnist.pt\")\n",
    "image_array, label_array = image_tensor.numpy(), label_tensor.numpy()\n",
    "num_images, height, width = image_array.shape\n",
    "\n",
    "\n",
    "# Split into training, validation and test by famous 7/1/2.\n",
    "# Just work on a single one fold.\n",
    "indices, labels = onp.arange(len(label_array)), label_array\n",
    "rest_indices, test_indices, rest_labels, test_labels = train_test_split(\n",
    "    indices, labels,\n",
    "    test_size=2 / (7 + 1 + 2), random_state=0, shuffle=True, stratify=labels,\n",
    ")\n",
    "train_indices, valid_indices, train_labels, valid_labels = train_test_split(\n",
    "    rest_indices, rest_labels,\n",
    "    test_size=1 / (7 + 1), random_state=0, shuffle=True, stratify=rest_labels,\n",
    ")\n",
    "train_image_array = image_array[train_indices]\n",
    "train_label_array = label_array[train_indices]\n",
    "valid_image_array = image_array[valid_indices]\n",
    "valid_label_array = label_array[valid_indices]\n",
    "test_image_array = image_array[test_indices]\n",
    "test_label_array = label_array[test_indices]\n",
    "\n",
    "\n",
    "# Augment test by rotations.\n",
    "aug_image_buf = []\n",
    "aug_label_buf = []\n",
    "for degree in (0, 90, 180, 270):\n",
    "    aug_image_buf.append(\n",
    "        onp.rot90(\n",
    "            test_image_array, degree // 90,\n",
    "            axes=(1, 2),\n",
    "        ),\n",
    "    )\n",
    "    aug_label_buf.append(test_label_array)\n",
    "aug_test_image_array = onp.concatenate(\n",
    "    aug_image_buf,\n",
    "    axis=0,\n",
    ")\n",
    "aug_test_label_array = onp.concatenate(\n",
    "    aug_label_buf,\n",
    "    axis=0,\n",
    ")\n",
    "\n",
    "\n",
    "# Define 90-rotation function.\n",
    "def rotate_array(array, degree):\n",
    "    if (array.ndim == 2 and degree % 90 == 0):\n",
    "        return onp.rot90(array, degree // 90)\n",
    "    else:\n",
    "        print(\"Can only rorate 2D array by 90n degrees.\")\n",
    "        raise RuntimeError\n",
    "\n",
    "\n",
    "# Define average of 4 rotations (0, 90, 180, 270) function.\n",
    "def averaged_four_rotations(array):\n",
    "    buf = []\n",
    "    for degree in (0, 90, 180, 270):\n",
    "        buf.append(rotate_array(array, degree))\n",
    "    return sum(buf) / len(buf)\n",
    "\n",
    "\n",
    "# Define focusing label.\n",
    "FOCUS_LABEL = 3\n",
    "FIRST_TRAIN_FOCUS = onp.where(train_label_array == FOCUS_LABEL)[0][0]\n",
    "FIRST_VALID_FOCUS = onp.where(valid_label_array == FOCUS_LABEL)[0][0]\n",
    "FIRST_TEST_FOCUS = onp.where(test_label_array == FOCUS_LABEL)[0][0]\n",
    "\n",
    "\n",
    "# # Render an image with four rotations as example.\n",
    "# # Use pandas.DataFrame to fit for seaborn.\n",
    "# render_table = {\"Degree\": [], \"Image\": []}\n",
    "# example_image = image_array[FIRST_TRAIN_FOCUS]\n",
    "# example_label = label_array[FIRST_TRAIN_FOCUS].item()\n",
    "# for degree in (0, 90, 180, 270):\n",
    "#     rotated_example_image = rotate_array(example_image, degree)\n",
    "#     render_table[\"Degree\"].append(degree)\n",
    "#     render_table[\"Image\"].append(rotated_example_image)\n",
    "# render_frame = pd.DataFrame(render_table)\n",
    "# grid = sns.FacetGrid(\n",
    "#     render_frame,\n",
    "#     col=\"Degree\", col_wrap=2, hue=\"Degree\",\n",
    "# )\n",
    "# grid.map(\n",
    "#     lambda df, *args, **kwargs: sns.heatmap(\n",
    "#         df.values[0],\n",
    "#         cmap=\"gray\", cbar=False, square=True,\n",
    "#     ),\n",
    "#     \"Image\",\n",
    "# )\n",
    "# for ax, degree in zip(grid.axes.flat, (0, 90, 180, 270)):\n",
    "#     ax.get_xaxis().set_visible(False)\n",
    "#     ax.get_yaxis().set_visible(False)\n",
    "#     ax.set_title(\n",
    "#         \"Rotation Degree = {:d}$^\\\\circ$\".format(degree),\n",
    "#         fontdict=dict(fontsize=12),\n",
    "#     )\n",
    "# grid.fig.suptitle(\n",
    "#     \"Label = {:d}\".format(example_label),\n",
    "#     fontsize=16,\n",
    "# )\n",
    "# grid.tight_layout()\n",
    "# grid.savefig(\"example_image.png\")\n",
    "# plt.close(\"all\")\n",
    "\n",
    "def showSubspace(subspace, Wshape, ndim=-1, channels=False):\n",
    "    subspace = subspace.T\n",
    "\n",
    "    if ndim == -1:\n",
    "        ndim = subspace.shape[0]\n",
    "    subspace = subspace[:ndim]\n",
    "\n",
    "    ndim = subspace.shape[0]\n",
    "    maxCols = min(ndim, 4)\n",
    "\n",
    "    for j in range(ndim):\n",
    "        if j % maxCols == 0:\n",
    "            plt.show()\n",
    "            nCols = maxCols if ndim - j > maxCols else ndim - j\n",
    "            fig, axes = plt.subplots(1, nCols, figsize=(12 * nCols // 2, 9 // 2))\n",
    "            try:\n",
    "                axes[0]\n",
    "            except:\n",
    "                axes = [axes]\n",
    "\n",
    "        kernel = subspace[j]\n",
    "        kernel = kernel.reshape(*Wshape)\n",
    "\n",
    "        if len(kernel.shape) == 3:\n",
    "            kernel = kernel.transpose(1, 2, 0)\n",
    "            if channels:\n",
    "                kernel = np.concatenate([kernel[:, :, c] for c in range(kernel.shape[-1])], axis=1)\n",
    "                axes[j%maxCols].add_patch(patches.Rectangle((-0.45, -0.45), 2.95, 2.95, facecolor='none', linestyle='--', linewidth=2, edgecolor='tab:red'))\n",
    "                axes[j%maxCols].add_patch(patches.Rectangle((2.55, -0.45), 2.95, 2.95, facecolor='none', linestyle='--', linewidth=2, edgecolor='tab:green'))\n",
    "                axes[j%maxCols].add_patch(patches.Rectangle((5.55, -0.45), 2.95, 2.95, facecolor='none', linestyle='--', linewidth=2, edgecolor='tab:blue'))\n",
    "\n",
    "        axes[j%maxCols].imshow(kernel.round(decimals=6), cmap=\"Greys\")\n",
    "        axes[j%maxCols].set_xticklabels([0] + [0, 1, 2] * 3)\n",
    "\n",
    "    plt.show()\n",
    "\n",
    "\n",
    "\n",
    "# Construct specified onehot for flattened image and apply rotation.\n",
    "def transformed_onehot(onehot_loc, transform_func, shape):\n",
    "    # Get flattened onehot.\n",
    "    numel = onp.prod(shape)\n",
    "    onehot = onp.zeros(numel)\n",
    "    onehot[onehot_loc] = 1\n",
    "\n",
    "    # Transform onehot with specific shape view and flatten back.\n",
    "    transformed_vec = transform_func(onehot.reshape(*shape))\n",
    "    return transformed_vec.reshape(numel)\n",
    "\n",
    "\n",
    "# Define number of CPUs to use for subspace generation.\n",
    "NUM_TRANSFORM_CPUS = 12\n",
    "\n",
    "\n",
    "# Apply given transformation on onehot corresponding to each pixel of 2D image.\n",
    "# Use Python multiprocessing since it is work with numpy array.\n",
    "# If it is torch Tensor, it is recommended to use PyTorch wrapped version of\n",
    "# multiprocessing (torch.multiprocessing).\n",
    "def get_invariant_subspace(transform_func, shape):\n",
    "    # Use multiprocessing to get transformation matrix correspond to given\n",
    "    # transformation function by paralleling onehot dimensions.\n",
    "    numel = onp.prod(shape)\n",
    "    pool = mp.Pool(NUM_TRANSFORM_CPUS)\n",
    "    transformed_buf = pool.map(\n",
    "        partial(\n",
    "            transformed_onehot,\n",
    "            transform_func=transform_func, shape=shape,\n",
    "        ),\n",
    "        range(numel),\n",
    "    )\n",
    "    pool.close()\n",
    "    pool.join()\n",
    "    transform_mat = onp.stack(\n",
    "        transformed_buf,\n",
    "        axis=1,\n",
    "    )\n",
    "\n",
    "    # Eigenvectors is used to describe the transformation subspace.\n",
    "    # Use right side of decomposition thus eigenvectors are located at rows.\n",
    "    # Transformation matrix is assumed to be real symmetric, thus Hermitian is\n",
    "    # used for optimization.\n",
    "    _, eigenvalues, eigenvectors = onp.linalg.svd(\n",
    "        transform_mat,\n",
    "        hermitian=True,\n",
    "    )\n",
    "\n",
    "    # Eigenvalues are sorted from high to low, thus for over rank eigenvectors,\n",
    "    # they are null eigenvectors assigned with 0 eigenvalues.\n",
    "    # We should focus on non-trival eigenvectors.\n",
    "    rank = onp.linalg.matrix_rank(\n",
    "        onp.diag(eigenvalues),\n",
    "        hermitian=True,\n",
    "    )\n",
    "    ntri_eigenvectors = eigenvectors[:rank]\n",
    "    null_eigenvectors = eigenvectors[rank:]\n",
    "    return transform_mat, ntri_eigenvectors.T, null_eigenvectors.T, eigenvalues\n",
    "\n",
    "\n",
    "\n",
    "# Define the test.\n",
    "def accuracy(model, input, target):\n",
    "    output = model.forward(input)\n",
    "    _, predict = torch.max(\n",
    "        output,\n",
    "        dim=1,\n",
    "    )\n",
    "    return balanced_accuracy_score(\n",
    "        y_true=target.tolist(), y_pred=predict.tolist(),\n",
    "    )\n",
    "\n",
    "\n",
    "# Prepare tensors.\n",
    "train_input = torch.from_numpy(train_image_array).float()\n",
    "train_input = train_input.view(len(train_label_array), height * width)\n",
    "train_target = torch.from_numpy(train_label_array).long()\n",
    "valid_input = torch.from_numpy(valid_image_array).float()\n",
    "valid_input = valid_input.view(len(valid_label_array), height * width)\n",
    "valid_target = torch.from_numpy(valid_label_array).long()\n",
    "test_input = torch.from_numpy(test_image_array).float()\n",
    "test_input = test_input.view(len(test_label_array), height * width)\n",
    "test_target = torch.from_numpy(test_label_array).long()\n",
    "aug_test_input = torch.from_numpy(aug_test_image_array).float()\n",
    "aug_test_input = aug_test_input.view(len(aug_test_label_array), height * width)\n",
    "aug_test_target = torch.from_numpy(aug_test_label_array).long()\n",
    "\n",
    "\n",
    "# Global training settings.\n",
    "BATCH_SIZE = 128\n",
    "LR = 1e-3\n",
    "WDECAY = 5e-5\n",
    "NUM_EPOCHS = 100\n",
    "NUM_BATCHES = len(train_input) // BATCH_SIZE\n",
    "NUM_SAMPLES = NUM_BATCHES * BATCH_SIZE"
   ]
  },
  {
   "cell_type": "code",
   "execution_count": 2,
   "metadata": {
    "slideshow": {
     "slide_type": "-"
    }
   },
   "outputs": [],
   "source": [
    "# Define 90-rotation function.\n",
    "def rotate_array(array, degree):\n",
    "    if (array.ndim == 2 and degree % 90 == 0):\n",
    "        return onp.rot90(array, degree // 90)\n",
    "    else:\n",
    "        print(\"Can only rorate 2D array by 90n degrees.\")\n",
    "        raise RuntimeError\n",
    "\n",
    "\n",
    "# Define average of 4 rotations (0, 90, 180, 270) function.\n",
    "def averaged_four_rotations(array):\n",
    "    buf = []\n",
    "    for degree in (0, 90, 180, 270):\n",
    "        buf.append(rotate_array(array, degree))\n",
    "    return sum(buf) / len(buf)\n",
    "\n"
   ]
  },
  {
   "cell_type": "code",
   "execution_count": 3,
   "metadata": {
    "slideshow": {
     "slide_type": "-"
    }
   },
   "outputs": [],
   "source": [
    "# Define number of CPUs to use for subspace generation.\n",
    "NUM_TRANSFORM_CPUS = 4\n",
    "\n",
    "#Important variables\n",
    "#  - transform_mat is out Reynods operator \\bar{T}\n",
    "#  - null_eigenvectors are the eigenvectors of \\bar{T}\n",
    "\n",
    "# Apply given transformation on onehot corresponding to each pixel of 2D image.\n",
    "# Use Python multiprocessing since it is work with numpy array.\n",
    "# If it is torch Tensor, it is recommended to use PyTorch wrapped version of\n",
    "# multiprocessing (torch.multiprocessing).\n",
    "def get_invariant_subspace(transform_func, shape):\n",
    "    # Use multiprocessing to get transformation matrix correspond to given\n",
    "    # transformation function by paralleling onehot dimensions.\n",
    "    numel = onp.prod(shape)\n",
    "    pool = mp.Pool(NUM_TRANSFORM_CPUS)\n",
    "    transformed_buf = pool.map(\n",
    "        partial(\n",
    "            transformed_onehot,\n",
    "            transform_func=transform_func, shape=shape,\n",
    "        ),\n",
    "        range(numel),\n",
    "    )\n",
    "    pool.close()\n",
    "    pool.join()\n",
    "    \n",
    "    # Form a single Reynods operator matrix from all results\n",
    "    transform_mat = onp.stack(transformed_buf,axis=1)\n",
    "\n",
    "    # Eigenvectors is used to describe the transformation subspace.\n",
    "    # Use right side of decomposition thus eigenvectors are located at rows.\n",
    "    # Transformation matrix is assumed to be real symmetric, thus Hermitian is\n",
    "    # used for optimization.\n",
    "    _, eigenvalues, eigenvectors = onp.linalg.svd(transform_mat,hermitian=True)\n",
    "\n",
    "    # Eigenvalues are sorted from high to low, thus for over rank eigenvectors,\n",
    "    # they are null eigenvectors assigned with 0 eigenvalues.\n",
    "    # We should focus on non-trival eigenvectors.\n",
    "    rank = onp.linalg.matrix_rank(onp.diag(eigenvalues),hermitian=True)\n",
    "    \n",
    "    eigenvectors = eigenvectors[:rank]\n",
    "    return transform_mat, eigenvectors.T\n"
   ]
  },
  {
   "cell_type": "code",
   "execution_count": 6,
   "metadata": {},
   "outputs": [
    {
     "data": {
      "text/plain": [
       "(784, 784)"
      ]
     },
     "execution_count": 6,
     "metadata": {},
     "output_type": "execute_result"
    }
   ],
   "source": [
    "transform_mat.shape"
   ]
  },
  {
   "cell_type": "markdown",
   "metadata": {
    "slideshow": {
     "slide_type": "slide"
    }
   },
   "source": [
    "### Eigenvectors of the Reynolds Operator"
   ]
  },
  {
   "cell_type": "code",
   "execution_count": 4,
   "metadata": {
    "slideshow": {
     "slide_type": "-"
    }
   },
   "outputs": [
    {
     "name": "stdout",
     "output_type": "stream",
     "text": [
      "The Reynolds operator tranformation matrix has dimension (784, 784)\n",
      "The subspace W is the subspace span by 196 eigenvectors\n",
      "--- First 16 eigenvectors shown as images ---\n"
     ]
    },
    {
     "name": "stderr",
     "output_type": "stream",
     "text": [
      "/tmp/ipykernel_16413/1135210783.py:157: UserWarning: set_ticklabels() should only be used with a fixed number of ticks, i.e. after set_ticks() or using a FixedLocator.\n",
      "  axes[j%maxCols].set_xticklabels([0] + [0, 1, 2] * 3)\n",
      "/tmp/ipykernel_16413/1135210783.py:157: UserWarning: set_ticklabels() should only be used with a fixed number of ticks, i.e. after set_ticks() or using a FixedLocator.\n",
      "  axes[j%maxCols].set_xticklabels([0] + [0, 1, 2] * 3)\n",
      "/tmp/ipykernel_16413/1135210783.py:157: UserWarning: set_ticklabels() should only be used with a fixed number of ticks, i.e. after set_ticks() or using a FixedLocator.\n",
      "  axes[j%maxCols].set_xticklabels([0] + [0, 1, 2] * 3)\n",
      "/tmp/ipykernel_16413/1135210783.py:157: UserWarning: set_ticklabels() should only be used with a fixed number of ticks, i.e. after set_ticks() or using a FixedLocator.\n",
      "  axes[j%maxCols].set_xticklabels([0] + [0, 1, 2] * 3)\n"
     ]
    },
    {
     "data": {
      "image/png": "[encoded data removed]",
      "text/plain": [
       "<Figure size 2400x400 with 4 Axes>"
      ]
     },
     "metadata": {},
     "output_type": "display_data"
    },
    {
     "name": "stderr",
     "output_type": "stream",
     "text": [
      "/tmp/ipykernel_16413/1135210783.py:157: UserWarning: set_ticklabels() should only be used with a fixed number of ticks, i.e. after set_ticks() or using a FixedLocator.\n",
      "  axes[j%maxCols].set_xticklabels([0] + [0, 1, 2] * 3)\n",
      "/tmp/ipykernel_16413/1135210783.py:157: UserWarning: set_ticklabels() should only be used with a fixed number of ticks, i.e. after set_ticks() or using a FixedLocator.\n",
      "  axes[j%maxCols].set_xticklabels([0] + [0, 1, 2] * 3)\n",
      "/tmp/ipykernel_16413/1135210783.py:157: UserWarning: set_ticklabels() should only be used with a fixed number of ticks, i.e. after set_ticks() or using a FixedLocator.\n",
      "  axes[j%maxCols].set_xticklabels([0] + [0, 1, 2] * 3)\n",
      "/tmp/ipykernel_16413/1135210783.py:157: UserWarning: set_ticklabels() should only be used with a fixed number of ticks, i.e. after set_ticks() or using a FixedLocator.\n",
      "  axes[j%maxCols].set_xticklabels([0] + [0, 1, 2] * 3)\n"
     ]
    },
    {
     "data": {
      "image/png": "[encoded data removed]",
      "text/plain": [
       "<Figure size 2400x400 with 4 Axes>"
      ]
     },
     "metadata": {},
     "output_type": "display_data"
    },
    {
     "name": "stderr",
     "output_type": "stream",
     "text": [
      "/tmp/ipykernel_16413/1135210783.py:157: UserWarning: set_ticklabels() should only be used with a fixed number of ticks, i.e. after set_ticks() or using a FixedLocator.\n",
      "  axes[j%maxCols].set_xticklabels([0] + [0, 1, 2] * 3)\n",
      "/tmp/ipykernel_16413/1135210783.py:157: UserWarning: set_ticklabels() should only be used with a fixed number of ticks, i.e. after set_ticks() or using a FixedLocator.\n",
      "  axes[j%maxCols].set_xticklabels([0] + [0, 1, 2] * 3)\n",
      "/tmp/ipykernel_16413/1135210783.py:157: UserWarning: set_ticklabels() should only be used with a fixed number of ticks, i.e. after set_ticks() or using a FixedLocator.\n",
      "  axes[j%maxCols].set_xticklabels([0] + [0, 1, 2] * 3)\n",
      "/tmp/ipykernel_16413/1135210783.py:157: UserWarning: set_ticklabels() should only be used with a fixed number of ticks, i.e. after set_ticks() or using a FixedLocator.\n",
      "  axes[j%maxCols].set_xticklabels([0] + [0, 1, 2] * 3)\n"
     ]
    },
    {
     "data": {
      "image/png": "[encoded data removed]",
      "text/plain": [
       "<Figure size 2400x400 with 4 Axes>"
      ]
     },
     "metadata": {},
     "output_type": "display_data"
    },
    {
     "name": "stderr",
     "output_type": "stream",
     "text": [
      "/tmp/ipykernel_16413/1135210783.py:157: UserWarning: set_ticklabels() should only be used with a fixed number of ticks, i.e. after set_ticks() or using a FixedLocator.\n",
      "  axes[j%maxCols].set_xticklabels([0] + [0, 1, 2] * 3)\n",
      "/tmp/ipykernel_16413/1135210783.py:157: UserWarning: set_ticklabels() should only be used with a fixed number of ticks, i.e. after set_ticks() or using a FixedLocator.\n",
      "  axes[j%maxCols].set_xticklabels([0] + [0, 1, 2] * 3)\n",
      "/tmp/ipykernel_16413/1135210783.py:157: UserWarning: set_ticklabels() should only be used with a fixed number of ticks, i.e. after set_ticks() or using a FixedLocator.\n",
      "  axes[j%maxCols].set_xticklabels([0] + [0, 1, 2] * 3)\n",
      "/tmp/ipykernel_16413/1135210783.py:157: UserWarning: set_ticklabels() should only be used with a fixed number of ticks, i.e. after set_ticks() or using a FixedLocator.\n",
      "  axes[j%maxCols].set_xticklabels([0] + [0, 1, 2] * 3)\n"
     ]
    },
    {
     "data": {
      "image/png": "[encoded data removed]",
      "text/plain": [
       "<Figure size 2400x400 with 4 Axes>"
      ]
     },
     "metadata": {},
     "output_type": "display_data"
    }
   ],
   "source": [
    "transform_mat, eigenvectors = get_invariant_subspace(averaged_four_rotations, (height, width))\n",
    "\n",
    "print(f\"The Reynolds operator tranformation matrix has dimension {transform_mat.shape}\")\n",
    "print(f\"The subspace W is the subspace span by {eigenvectors.shape[1]} eigenvectors\")\n",
    "print(\"--- First 16 eigenvectors shown as images ---\")\n",
    "showSubspace(eigenvectors, (height, width), ndim=16, channels=False)"
   ]
  },
  {
   "cell_type": "markdown",
   "metadata": {
    "slideshow": {
     "slide_type": "slide"
    }
   },
   "source": [
    "## Standard MLP"
   ]
  },
  {
   "cell_type": "code",
   "execution_count": 3,
   "metadata": {},
   "outputs": [],
   "source": [
    "import torch.nn as nn\n",
    "\n",
    "class MLP(nn.Module):\n",
    "    def __init__(self):\n",
    "        super().__init__()\n",
    "        \n",
    "        # We will later replace the first layer with a G-invariant layer.\n",
    "        # Rest of the code remains the same.\n",
    "        self.first_layer = nn.Linear(784, 50)\n",
    "        \n",
    "        self.mlp = nn.Sequential(\n",
    "                self.first_layer,\n",
    "                nn.ReLU(),\n",
    "                nn.Linear(50, 10)\n",
    "        )\n",
    "                \n",
    "    def forward(self, X):\n",
    "        out = self.mlp(X)\n",
    "        return out\n",
    "        \n",
    "model = MLP()"
   ]
  },
  {
   "cell_type": "code",
   "execution_count": 4,
   "metadata": {
    "scrolled": true,
    "slideshow": {
     "slide_type": "-"
    }
   },
   "outputs": [
    {
     "name": "stdout",
     "output_type": "stream",
     "text": [
      "===== ========\n",
      "Epoch Train Accuracy\n",
      "----- --------\n",
      "    1 0.841218\n",
      "    2 0.887364\n",
      "    3 0.902129\n",
      "    4 0.912039\n",
      "    5 0.916965\n",
      "    6 0.920731\n",
      "    7 0.923975\n",
      "    8 0.930847\n",
      "   11 0.933370\n",
      "   13 0.933404\n",
      "   15 0.936243\n",
      "   16 0.937182\n",
      "   17 0.938709\n",
      "   18 0.938798\n",
      "   20 0.939464\n",
      "   21 0.940305\n",
      "   22 0.941994\n",
      "   23 0.942904\n",
      "   26 0.943283\n",
      "   27 0.944298\n",
      "   31 0.944302\n",
      "   33 0.945895\n",
      "   38 0.947670\n",
      "   49 0.947704\n"
     ]
    },
    {
     "ename": "KeyboardInterrupt",
     "evalue": "",
     "output_type": "error",
     "traceback": [
      "\u001b[0;31m---------------------------------------------------------------------------\u001b[0m",
      "\u001b[0;31mKeyboardInterrupt\u001b[0m                         Traceback (most recent call last)",
      "Cell \u001b[0;32mIn[4], line 30\u001b[0m\n\u001b[1;32m     28\u001b[0m train_loss \u001b[38;5;241m=\u001b[39m torch\u001b[38;5;241m.\u001b[39mnn\u001b[38;5;241m.\u001b[39mfunctional\u001b[38;5;241m.\u001b[39mcross_entropy(train_output, train_target[batch_itr])\n\u001b[1;32m     29\u001b[0m \u001b[38;5;66;03m# Backprop\u001b[39;00m\n\u001b[0;32m---> 30\u001b[0m \u001b[43mtrain_loss\u001b[49m\u001b[38;5;241;43m.\u001b[39;49m\u001b[43mbackward\u001b[49m\u001b[43m(\u001b[49m\u001b[43m)\u001b[49m\n\u001b[1;32m     31\u001b[0m \u001b[38;5;66;03m# One gradient step\u001b[39;00m\n\u001b[1;32m     32\u001b[0m optimizer\u001b[38;5;241m.\u001b[39mstep()\n",
      "File \u001b[0;32m~/.venv/ml/lib/python3.12/site-packages/torch/_tensor.py:521\u001b[0m, in \u001b[0;36mTensor.backward\u001b[0;34m(self, gradient, retain_graph, create_graph, inputs)\u001b[0m\n\u001b[1;32m    511\u001b[0m \u001b[38;5;28;01mif\u001b[39;00m has_torch_function_unary(\u001b[38;5;28mself\u001b[39m):\n\u001b[1;32m    512\u001b[0m     \u001b[38;5;28;01mreturn\u001b[39;00m handle_torch_function(\n\u001b[1;32m    513\u001b[0m         Tensor\u001b[38;5;241m.\u001b[39mbackward,\n\u001b[1;32m    514\u001b[0m         (\u001b[38;5;28mself\u001b[39m,),\n\u001b[0;32m   (...)\u001b[0m\n\u001b[1;32m    519\u001b[0m         inputs\u001b[38;5;241m=\u001b[39minputs,\n\u001b[1;32m    520\u001b[0m     )\n\u001b[0;32m--> 521\u001b[0m \u001b[43mtorch\u001b[49m\u001b[38;5;241;43m.\u001b[39;49m\u001b[43mautograd\u001b[49m\u001b[38;5;241;43m.\u001b[39;49m\u001b[43mbackward\u001b[49m\u001b[43m(\u001b[49m\n\u001b[1;32m    522\u001b[0m \u001b[43m    \u001b[49m\u001b[38;5;28;43mself\u001b[39;49m\u001b[43m,\u001b[49m\u001b[43m \u001b[49m\u001b[43mgradient\u001b[49m\u001b[43m,\u001b[49m\u001b[43m \u001b[49m\u001b[43mretain_graph\u001b[49m\u001b[43m,\u001b[49m\u001b[43m \u001b[49m\u001b[43mcreate_graph\u001b[49m\u001b[43m,\u001b[49m\u001b[43m \u001b[49m\u001b[43minputs\u001b[49m\u001b[38;5;241;43m=\u001b[39;49m\u001b[43minputs\u001b[49m\n\u001b[1;32m    523\u001b[0m \u001b[43m\u001b[49m\u001b[43m)\u001b[49m\n",
      "File \u001b[0;32m~/.venv/ml/lib/python3.12/site-packages/torch/autograd/__init__.py:289\u001b[0m, in \u001b[0;36mbackward\u001b[0;34m(tensors, grad_tensors, retain_graph, create_graph, grad_variables, inputs)\u001b[0m\n\u001b[1;32m    284\u001b[0m     retain_graph \u001b[38;5;241m=\u001b[39m create_graph\n\u001b[1;32m    286\u001b[0m \u001b[38;5;66;03m# The reason we repeat the same comment below is that\u001b[39;00m\n\u001b[1;32m    287\u001b[0m \u001b[38;5;66;03m# some Python versions print out the first line of a multi-line function\u001b[39;00m\n\u001b[1;32m    288\u001b[0m \u001b[38;5;66;03m# calls in the traceback and some print out the last line\u001b[39;00m\n\u001b[0;32m--> 289\u001b[0m \u001b[43m_engine_run_backward\u001b[49m\u001b[43m(\u001b[49m\n\u001b[1;32m    290\u001b[0m \u001b[43m    \u001b[49m\u001b[43mtensors\u001b[49m\u001b[43m,\u001b[49m\n\u001b[1;32m    291\u001b[0m \u001b[43m    \u001b[49m\u001b[43mgrad_tensors_\u001b[49m\u001b[43m,\u001b[49m\n\u001b[1;32m    292\u001b[0m \u001b[43m    \u001b[49m\u001b[43mretain_graph\u001b[49m\u001b[43m,\u001b[49m\n\u001b[1;32m    293\u001b[0m \u001b[43m    \u001b[49m\u001b[43mcreate_graph\u001b[49m\u001b[43m,\u001b[49m\n\u001b[1;32m    294\u001b[0m \u001b[43m    \u001b[49m\u001b[43minputs\u001b[49m\u001b[43m,\u001b[49m\n\u001b[1;32m    295\u001b[0m \u001b[43m    \u001b[49m\u001b[43mallow_unreachable\u001b[49m\u001b[38;5;241;43m=\u001b[39;49m\u001b[38;5;28;43;01mTrue\u001b[39;49;00m\u001b[43m,\u001b[49m\n\u001b[1;32m    296\u001b[0m \u001b[43m    \u001b[49m\u001b[43maccumulate_grad\u001b[49m\u001b[38;5;241;43m=\u001b[39;49m\u001b[38;5;28;43;01mTrue\u001b[39;49;00m\u001b[43m,\u001b[49m\n\u001b[1;32m    297\u001b[0m \u001b[43m\u001b[49m\u001b[43m)\u001b[49m\n",
      "File \u001b[0;32m~/.venv/ml/lib/python3.12/site-packages/torch/autograd/graph.py:769\u001b[0m, in \u001b[0;36m_engine_run_backward\u001b[0;34m(t_outputs, *args, **kwargs)\u001b[0m\n\u001b[1;32m    767\u001b[0m     unregister_hooks \u001b[38;5;241m=\u001b[39m _register_logging_hooks_on_whole_graph(t_outputs)\n\u001b[1;32m    768\u001b[0m \u001b[38;5;28;01mtry\u001b[39;00m:\n\u001b[0;32m--> 769\u001b[0m     \u001b[38;5;28;01mreturn\u001b[39;00m \u001b[43mVariable\u001b[49m\u001b[38;5;241;43m.\u001b[39;49m\u001b[43m_execution_engine\u001b[49m\u001b[38;5;241;43m.\u001b[39;49m\u001b[43mrun_backward\u001b[49m\u001b[43m(\u001b[49m\u001b[43m  \u001b[49m\u001b[38;5;66;43;03m# Calls into the C++ engine to run the backward pass\u001b[39;49;00m\n\u001b[1;32m    770\u001b[0m \u001b[43m        \u001b[49m\u001b[43mt_outputs\u001b[49m\u001b[43m,\u001b[49m\u001b[43m \u001b[49m\u001b[38;5;241;43m*\u001b[39;49m\u001b[43margs\u001b[49m\u001b[43m,\u001b[49m\u001b[43m \u001b[49m\u001b[38;5;241;43m*\u001b[39;49m\u001b[38;5;241;43m*\u001b[39;49m\u001b[43mkwargs\u001b[49m\n\u001b[1;32m    771\u001b[0m \u001b[43m    \u001b[49m\u001b[43m)\u001b[49m  \u001b[38;5;66;03m# Calls into the C++ engine to run the backward pass\u001b[39;00m\n\u001b[1;32m    772\u001b[0m \u001b[38;5;28;01mfinally\u001b[39;00m:\n\u001b[1;32m    773\u001b[0m     \u001b[38;5;28;01mif\u001b[39;00m attach_logging_hooks:\n",
      "\u001b[0;31mKeyboardInterrupt\u001b[0m: "
     ]
    }
   ],
   "source": [
    "# Standard MLP with 1 hidden layer.\n",
    "rng = torch.Generator(\"cpu\")\n",
    "rng.manual_seed(0)\n",
    "\n",
    "# Use Pytorch's pre-defined SGD optimizer\n",
    "optimizer = torch.optim.SGD(model.parameters(),lr=LR)\n",
    "\n",
    "best_acc = 0\n",
    "best_state_dict = copy.deepcopy(model.state_dict())\n",
    "print(\"=====\", \"=\" * 8)\n",
    "print(\"Epoch\", \"Train Accuracy\")\n",
    "print(\"-----\", \"-\" * 8)\n",
    "for epc in range(NUM_EPOCHS):\n",
    "    # Creates a mini-batch\n",
    "    for batch_cnt, batch_itr in enumerate(\n",
    "        torch.randperm(\n",
    "            len(train_input),\n",
    "            generator=rng,\n",
    "        )[0:NUM_SAMPLES].view(\n",
    "            NUM_BATCHES, BATCH_SIZE,\n",
    "        ),\n",
    "    ):\n",
    "        # Zero gradients of optimize\n",
    "        optimizer.zero_grad()\n",
    "        # Forward pass of model\n",
    "        train_output = model(train_input[batch_itr])\n",
    "        # Define loss\n",
    "        train_loss = torch.nn.functional.cross_entropy(train_output, train_target[batch_itr])\n",
    "        # Backprop\n",
    "        train_loss.backward()\n",
    "        # One gradient step\n",
    "        optimizer.step()\n",
    "        \n",
    "    valid_acc = accuracy(model, valid_input, valid_target)\n",
    "    if (valid_acc > best_acc):\n",
    "        print(\"{:5d} {:.6f}\".format(epc + 1, valid_acc))\n",
    "        best_acc = valid_acc\n",
    "        best_state_dict = copy.deepcopy(model.state_dict())\n",
    "    elif ((epc + 1) % 100 == 0):\n",
    "        print(\"{:5d} {:.6f}\".format(epc + 1, valid_acc))\n",
    "    else:\n",
    "        pass\n",
    "print(\"=====\", \"=\" * 8)\n",
    "model.load_state_dict(best_state_dict)\n",
    "train_acc = accuracy(model, train_input, train_target)\n",
    "valid_acc = accuracy(model, valid_input, valid_target)\n",
    "test_acc = accuracy(model, test_input, test_target)\n",
    "aug_test_acc = accuracy(model, aug_test_input, aug_test_target)\n",
    "print(\"=====\", \"=\" * 8)\n",
    "print(\"Data \", \"\\tAccuracy\")\n",
    "print(\"-----\", \"-\" * 8)\n",
    "print(\"Original Train\", \"{:.6f}\".format(train_acc))\n",
    "print(\"Original Valid\", \"{:.6f}\".format(valid_acc))\n",
    "print(\"Original Test \", \"{:.6f}\".format(test_acc))\n",
    "print(\"Rotated  Test \", \"{:.6f}\".format(aug_test_acc))\n",
    "print(\"=====\", \"=\" * 8)\n"
   ]
  },
  {
   "cell_type": "code",
   "execution_count": null,
   "metadata": {},
   "outputs": [],
   "source": [
    "torch.save(model, 'mlp.pt')"
   ]
  },
  {
   "cell_type": "markdown",
   "metadata": {
    "slideshow": {
     "slide_type": "slide"
    }
   },
   "source": [
    "## G-Invariant MLP"
   ]
  },
  {
   "cell_type": "code",
   "execution_count": 12,
   "metadata": {},
   "outputs": [],
   "source": [
    "import math\n",
    "eigentensor = torch.from_numpy(eigenvectors).float()\n",
    "\n",
    "class GInvariantLayer(nn.Module):\n",
    "    \n",
    "    def __init__(self, input_dim, output_dim):\n",
    "        super().__init__()\n",
    "        \n",
    "        # Load the left 1-eigenvectors of the Reynolds operator that we computed before.\n",
    "        self.basis = eigentensor.T\n",
    "        assert self.basis.shape[1] == input_dim\n",
    "        \n",
    "        self.coeffs = nn.Parameter(torch.Tensor(output_dim, self.basis.shape[0], 1))\n",
    "        self.bias = nn.Parameter(torch.Tensor(output_dim))\n",
    "        \n",
    "        stdv = 1.0/math.sqrt(output_dim)\n",
    "        self.coeffs.data.uniform_(-stdv, stdv)\n",
    "        self.bias.data.zero_()\n",
    "    \n",
    "\n",
    "    def forward(self, X):\n",
    "        # Input shape: torch.Size([minibatch, input_dim])\n",
    "        \n",
    "        if self.basis.device != X.device:\n",
    "            self.basis = self.basis.to(X.device)\n",
    "\n",
    "        # Construct weight w \\in \\mathcal{W} (the left 1-eigenspace)\n",
    "        #      using the current learnable coefficients.\n",
    "        # coeffs: (output_dim, n_basis, 1)\n",
    "        # basis  : (n_basis, input_dim)\n",
    "        # result after torch.mul : (output_dim, n_basis, input_dim)\n",
    "        # result after sum : (output_dim, input_dim)\n",
    "        weights = torch.mul(self.coeffs, self.basis)\n",
    "        weights = weights.sum(dim=-2)\n",
    "\n",
    "        # Output shape: torch.Size([minibatch, output_dim])\n",
    "        out = X @ weights.T + self.bias\n",
    "\n",
    "        return out"
   ]
  },
  {
   "cell_type": "code",
   "execution_count": 13,
   "metadata": {},
   "outputs": [],
   "source": [
    "class GInvariantMLP(nn.Module):\n",
    "    def __init__(self):\n",
    "        super().__init__()\n",
    "        \n",
    "        # Replace the first layer with a G-invariant layer.\n",
    "        self.first_layer = GInvariantLayer(784, 50)\n",
    "        \n",
    "        self.mlp = nn.Sequential(\n",
    "                self.first_layer,\n",
    "                nn.ReLU(),\n",
    "                nn.Linear(50, 10)\n",
    "        )\n",
    "                \n",
    "    def forward(self, X):\n",
    "        out = self.mlp(X)\n",
    "        return out\n",
    "\n",
    "        \n",
    "model = GInvariantMLP()"
   ]
  },
  {
   "cell_type": "code",
   "execution_count": 14,
   "metadata": {
    "scrolled": true,
    "slideshow": {
     "slide_type": "-"
    }
   },
   "outputs": [
    {
     "name": "stdout",
     "output_type": "stream",
     "text": [
      "===== ========\n",
      "Epoch Train Accuracy\n",
      "----- --------\n"
     ]
    },
    {
     "ename": "KeyboardInterrupt",
     "evalue": "",
     "output_type": "error",
     "traceback": [
      "\u001b[0;31m---------------------------------------------------------------------------\u001b[0m",
      "\u001b[0;31mKeyboardInterrupt\u001b[0m                         Traceback (most recent call last)",
      "Cell \u001b[0;32mIn[14], line 23\u001b[0m\n\u001b[1;32m     14\u001b[0m \u001b[38;5;28;01mfor\u001b[39;00m batch_cnt, batch_itr \u001b[38;5;129;01min\u001b[39;00m \u001b[38;5;28menumerate\u001b[39m(\n\u001b[1;32m     15\u001b[0m     torch\u001b[38;5;241m.\u001b[39mrandperm(\n\u001b[1;32m     16\u001b[0m         \u001b[38;5;28mlen\u001b[39m(train_input),\n\u001b[0;32m   (...)\u001b[0m\n\u001b[1;32m     20\u001b[0m     ),\n\u001b[1;32m     21\u001b[0m ):\n\u001b[1;32m     22\u001b[0m     optimizer\u001b[38;5;241m.\u001b[39mzero_grad()\n\u001b[0;32m---> 23\u001b[0m     train_output \u001b[38;5;241m=\u001b[39m \u001b[43mmodel\u001b[49m\u001b[38;5;241;43m.\u001b[39;49m\u001b[43mforward\u001b[49m\u001b[43m(\u001b[49m\n\u001b[1;32m     24\u001b[0m \u001b[43m        \u001b[49m\u001b[43mtrain_input\u001b[49m\u001b[43m[\u001b[49m\u001b[43mbatch_itr\u001b[49m\u001b[43m]\u001b[49m\u001b[43m,\u001b[49m\n\u001b[1;32m     25\u001b[0m \u001b[43m    \u001b[49m\u001b[43m)\u001b[49m\n\u001b[1;32m     26\u001b[0m     train_loss \u001b[38;5;241m=\u001b[39m torch\u001b[38;5;241m.\u001b[39mnn\u001b[38;5;241m.\u001b[39mfunctional\u001b[38;5;241m.\u001b[39mcross_entropy(\n\u001b[1;32m     27\u001b[0m         train_output, train_target[batch_itr],\n\u001b[1;32m     28\u001b[0m     )\n\u001b[1;32m     29\u001b[0m     train_loss\u001b[38;5;241m.\u001b[39mbackward()\n",
      "Cell \u001b[0;32mIn[13], line 15\u001b[0m, in \u001b[0;36mGInvariantMLP.forward\u001b[0;34m(self, X)\u001b[0m\n\u001b[1;32m     14\u001b[0m \u001b[38;5;28;01mdef\u001b[39;00m \u001b[38;5;21mforward\u001b[39m(\u001b[38;5;28mself\u001b[39m, X):\n\u001b[0;32m---> 15\u001b[0m     out \u001b[38;5;241m=\u001b[39m \u001b[38;5;28;43mself\u001b[39;49m\u001b[38;5;241;43m.\u001b[39;49m\u001b[43mmlp\u001b[49m\u001b[43m(\u001b[49m\u001b[43mX\u001b[49m\u001b[43m)\u001b[49m\n\u001b[1;32m     16\u001b[0m     \u001b[38;5;28;01mreturn\u001b[39;00m out\n",
      "File \u001b[0;32m~/.venv/ml/lib/python3.12/site-packages/torch/nn/modules/module.py:1553\u001b[0m, in \u001b[0;36mModule._wrapped_call_impl\u001b[0;34m(self, *args, **kwargs)\u001b[0m\n\u001b[1;32m   1551\u001b[0m     \u001b[38;5;28;01mreturn\u001b[39;00m \u001b[38;5;28mself\u001b[39m\u001b[38;5;241m.\u001b[39m_compiled_call_impl(\u001b[38;5;241m*\u001b[39margs, \u001b[38;5;241m*\u001b[39m\u001b[38;5;241m*\u001b[39mkwargs)  \u001b[38;5;66;03m# type: ignore[misc]\u001b[39;00m\n\u001b[1;32m   1552\u001b[0m \u001b[38;5;28;01melse\u001b[39;00m:\n\u001b[0;32m-> 1553\u001b[0m     \u001b[38;5;28;01mreturn\u001b[39;00m \u001b[38;5;28;43mself\u001b[39;49m\u001b[38;5;241;43m.\u001b[39;49m\u001b[43m_call_impl\u001b[49m\u001b[43m(\u001b[49m\u001b[38;5;241;43m*\u001b[39;49m\u001b[43margs\u001b[49m\u001b[43m,\u001b[49m\u001b[43m \u001b[49m\u001b[38;5;241;43m*\u001b[39;49m\u001b[38;5;241;43m*\u001b[39;49m\u001b[43mkwargs\u001b[49m\u001b[43m)\u001b[49m\n",
      "File \u001b[0;32m~/.venv/ml/lib/python3.12/site-packages/torch/nn/modules/module.py:1562\u001b[0m, in \u001b[0;36mModule._call_impl\u001b[0;34m(self, *args, **kwargs)\u001b[0m\n\u001b[1;32m   1557\u001b[0m \u001b[38;5;66;03m# If we don't have any hooks, we want to skip the rest of the logic in\u001b[39;00m\n\u001b[1;32m   1558\u001b[0m \u001b[38;5;66;03m# this function, and just call forward.\u001b[39;00m\n\u001b[1;32m   1559\u001b[0m \u001b[38;5;28;01mif\u001b[39;00m \u001b[38;5;129;01mnot\u001b[39;00m (\u001b[38;5;28mself\u001b[39m\u001b[38;5;241m.\u001b[39m_backward_hooks \u001b[38;5;129;01mor\u001b[39;00m \u001b[38;5;28mself\u001b[39m\u001b[38;5;241m.\u001b[39m_backward_pre_hooks \u001b[38;5;129;01mor\u001b[39;00m \u001b[38;5;28mself\u001b[39m\u001b[38;5;241m.\u001b[39m_forward_hooks \u001b[38;5;129;01mor\u001b[39;00m \u001b[38;5;28mself\u001b[39m\u001b[38;5;241m.\u001b[39m_forward_pre_hooks\n\u001b[1;32m   1560\u001b[0m         \u001b[38;5;129;01mor\u001b[39;00m _global_backward_pre_hooks \u001b[38;5;129;01mor\u001b[39;00m _global_backward_hooks\n\u001b[1;32m   1561\u001b[0m         \u001b[38;5;129;01mor\u001b[39;00m _global_forward_hooks \u001b[38;5;129;01mor\u001b[39;00m _global_forward_pre_hooks):\n\u001b[0;32m-> 1562\u001b[0m     \u001b[38;5;28;01mreturn\u001b[39;00m \u001b[43mforward_call\u001b[49m\u001b[43m(\u001b[49m\u001b[38;5;241;43m*\u001b[39;49m\u001b[43margs\u001b[49m\u001b[43m,\u001b[49m\u001b[43m \u001b[49m\u001b[38;5;241;43m*\u001b[39;49m\u001b[38;5;241;43m*\u001b[39;49m\u001b[43mkwargs\u001b[49m\u001b[43m)\u001b[49m\n\u001b[1;32m   1564\u001b[0m \u001b[38;5;28;01mtry\u001b[39;00m:\n\u001b[1;32m   1565\u001b[0m     result \u001b[38;5;241m=\u001b[39m \u001b[38;5;28;01mNone\u001b[39;00m\n",
      "File \u001b[0;32m~/.venv/ml/lib/python3.12/site-packages/torch/nn/modules/container.py:219\u001b[0m, in \u001b[0;36mSequential.forward\u001b[0;34m(self, input)\u001b[0m\n\u001b[1;32m    217\u001b[0m \u001b[38;5;28;01mdef\u001b[39;00m \u001b[38;5;21mforward\u001b[39m(\u001b[38;5;28mself\u001b[39m, \u001b[38;5;28minput\u001b[39m):\n\u001b[1;32m    218\u001b[0m     \u001b[38;5;28;01mfor\u001b[39;00m module \u001b[38;5;129;01min\u001b[39;00m \u001b[38;5;28mself\u001b[39m:\n\u001b[0;32m--> 219\u001b[0m         \u001b[38;5;28minput\u001b[39m \u001b[38;5;241m=\u001b[39m \u001b[43mmodule\u001b[49m\u001b[43m(\u001b[49m\u001b[38;5;28;43minput\u001b[39;49m\u001b[43m)\u001b[49m\n\u001b[1;32m    220\u001b[0m     \u001b[38;5;28;01mreturn\u001b[39;00m \u001b[38;5;28minput\u001b[39m\n",
      "File \u001b[0;32m~/.venv/ml/lib/python3.12/site-packages/torch/nn/modules/module.py:1553\u001b[0m, in \u001b[0;36mModule._wrapped_call_impl\u001b[0;34m(self, *args, **kwargs)\u001b[0m\n\u001b[1;32m   1551\u001b[0m     \u001b[38;5;28;01mreturn\u001b[39;00m \u001b[38;5;28mself\u001b[39m\u001b[38;5;241m.\u001b[39m_compiled_call_impl(\u001b[38;5;241m*\u001b[39margs, \u001b[38;5;241m*\u001b[39m\u001b[38;5;241m*\u001b[39mkwargs)  \u001b[38;5;66;03m# type: ignore[misc]\u001b[39;00m\n\u001b[1;32m   1552\u001b[0m \u001b[38;5;28;01melse\u001b[39;00m:\n\u001b[0;32m-> 1553\u001b[0m     \u001b[38;5;28;01mreturn\u001b[39;00m \u001b[38;5;28;43mself\u001b[39;49m\u001b[38;5;241;43m.\u001b[39;49m\u001b[43m_call_impl\u001b[49m\u001b[43m(\u001b[49m\u001b[38;5;241;43m*\u001b[39;49m\u001b[43margs\u001b[49m\u001b[43m,\u001b[49m\u001b[43m \u001b[49m\u001b[38;5;241;43m*\u001b[39;49m\u001b[38;5;241;43m*\u001b[39;49m\u001b[43mkwargs\u001b[49m\u001b[43m)\u001b[49m\n",
      "File \u001b[0;32m~/.venv/ml/lib/python3.12/site-packages/torch/nn/modules/module.py:1562\u001b[0m, in \u001b[0;36mModule._call_impl\u001b[0;34m(self, *args, **kwargs)\u001b[0m\n\u001b[1;32m   1557\u001b[0m \u001b[38;5;66;03m# If we don't have any hooks, we want to skip the rest of the logic in\u001b[39;00m\n\u001b[1;32m   1558\u001b[0m \u001b[38;5;66;03m# this function, and just call forward.\u001b[39;00m\n\u001b[1;32m   1559\u001b[0m \u001b[38;5;28;01mif\u001b[39;00m \u001b[38;5;129;01mnot\u001b[39;00m (\u001b[38;5;28mself\u001b[39m\u001b[38;5;241m.\u001b[39m_backward_hooks \u001b[38;5;129;01mor\u001b[39;00m \u001b[38;5;28mself\u001b[39m\u001b[38;5;241m.\u001b[39m_backward_pre_hooks \u001b[38;5;129;01mor\u001b[39;00m \u001b[38;5;28mself\u001b[39m\u001b[38;5;241m.\u001b[39m_forward_hooks \u001b[38;5;129;01mor\u001b[39;00m \u001b[38;5;28mself\u001b[39m\u001b[38;5;241m.\u001b[39m_forward_pre_hooks\n\u001b[1;32m   1560\u001b[0m         \u001b[38;5;129;01mor\u001b[39;00m _global_backward_pre_hooks \u001b[38;5;129;01mor\u001b[39;00m _global_backward_hooks\n\u001b[1;32m   1561\u001b[0m         \u001b[38;5;129;01mor\u001b[39;00m _global_forward_hooks \u001b[38;5;129;01mor\u001b[39;00m _global_forward_pre_hooks):\n\u001b[0;32m-> 1562\u001b[0m     \u001b[38;5;28;01mreturn\u001b[39;00m \u001b[43mforward_call\u001b[49m\u001b[43m(\u001b[49m\u001b[38;5;241;43m*\u001b[39;49m\u001b[43margs\u001b[49m\u001b[43m,\u001b[49m\u001b[43m \u001b[49m\u001b[38;5;241;43m*\u001b[39;49m\u001b[38;5;241;43m*\u001b[39;49m\u001b[43mkwargs\u001b[49m\u001b[43m)\u001b[49m\n\u001b[1;32m   1564\u001b[0m \u001b[38;5;28;01mtry\u001b[39;00m:\n\u001b[1;32m   1565\u001b[0m     result \u001b[38;5;241m=\u001b[39m \u001b[38;5;28;01mNone\u001b[39;00m\n",
      "Cell \u001b[0;32mIn[12], line 34\u001b[0m, in \u001b[0;36mGInvariantLayer.forward\u001b[0;34m(self, X)\u001b[0m\n\u001b[1;32m     27\u001b[0m \u001b[38;5;66;03m# Construct weight w \\in \\mathcal{W} (the left 1-eigenspace)\u001b[39;00m\n\u001b[1;32m     28\u001b[0m \u001b[38;5;66;03m#      using the current learnable coefficients.\u001b[39;00m\n\u001b[1;32m     29\u001b[0m \u001b[38;5;66;03m# coeffs: (output_dim, n_basis, 1)\u001b[39;00m\n\u001b[1;32m     30\u001b[0m \u001b[38;5;66;03m# basis  : (n_basis, input_dim)\u001b[39;00m\n\u001b[1;32m     31\u001b[0m \u001b[38;5;66;03m# result after torch.mul : (output_dim, n_basis, input_dim)\u001b[39;00m\n\u001b[1;32m     32\u001b[0m \u001b[38;5;66;03m# result after sum : (output_dim, input_dim)\u001b[39;00m\n\u001b[1;32m     33\u001b[0m weights \u001b[38;5;241m=\u001b[39m torch\u001b[38;5;241m.\u001b[39mmul(\u001b[38;5;28mself\u001b[39m\u001b[38;5;241m.\u001b[39mcoeffs, \u001b[38;5;28mself\u001b[39m\u001b[38;5;241m.\u001b[39mbasis)\n\u001b[0;32m---> 34\u001b[0m weights \u001b[38;5;241m=\u001b[39m \u001b[43mweights\u001b[49m\u001b[38;5;241;43m.\u001b[39;49m\u001b[43msum\u001b[49m\u001b[43m(\u001b[49m\u001b[43mdim\u001b[49m\u001b[38;5;241;43m=\u001b[39;49m\u001b[38;5;241;43m-\u001b[39;49m\u001b[38;5;241;43m2\u001b[39;49m\u001b[43m)\u001b[49m\n\u001b[1;32m     36\u001b[0m \u001b[38;5;66;03m# Output shape: torch.Size([minibatch, output_dim])\u001b[39;00m\n\u001b[1;32m     37\u001b[0m out \u001b[38;5;241m=\u001b[39m X \u001b[38;5;241m@\u001b[39m weights\u001b[38;5;241m.\u001b[39mT \u001b[38;5;241m+\u001b[39m \u001b[38;5;28mself\u001b[39m\u001b[38;5;241m.\u001b[39mbias\n",
      "\u001b[0;31mKeyboardInterrupt\u001b[0m: "
     ]
    }
   ],
   "source": [
    "# G-invariant MLP with 1 hidden layer.\n",
    "rng = torch.Generator(\"cpu\")\n",
    "rng.manual_seed(0)\n",
    "\n",
    "# Use Pytorch's pre-defined SGD optimizer\n",
    "optimizer = torch.optim.SGD(model.parameters(),lr=LR)\n",
    "best_acc = 0\n",
    "best_state_dict = copy.deepcopy(model.state_dict())\n",
    "print(\"=====\", \"=\" * 8)\n",
    "print(\"Epoch\", \"Train Accuracy\")\n",
    "print(\"-----\", \"-\" * 8)\n",
    "linear_transform = torch.Tensor(transform_mat.T)\n",
    "for epc in range(NUM_EPOCHS):\n",
    "    for batch_cnt, batch_itr in enumerate(\n",
    "        torch.randperm(\n",
    "            len(train_input),\n",
    "            generator=rng,\n",
    "        )[0:NUM_SAMPLES].view(\n",
    "            NUM_BATCHES, BATCH_SIZE,\n",
    "        ),\n",
    "    ):\n",
    "        optimizer.zero_grad()\n",
    "        train_output = model.forward(\n",
    "            train_input[batch_itr],\n",
    "        )\n",
    "        train_loss = torch.nn.functional.cross_entropy(\n",
    "            train_output, train_target[batch_itr],\n",
    "        )\n",
    "        train_loss.backward()\n",
    "        optimizer.step()\n",
    "    valid_acc = accuracy(\n",
    "        model,\n",
    "        valid_input,\n",
    "        valid_target,\n",
    "    )\n",
    "    if (valid_acc > best_acc):\n",
    "        print(\"{:5d} {:.6f}\".format(epc + 1, valid_acc))\n",
    "        best_acc = valid_acc\n",
    "        best_state_dict = copy.deepcopy(model.state_dict())\n",
    "    elif ((epc + 1) % 50 == 0):\n",
    "        print(\"{:5d} {:.6f}\".format(epc + 1, valid_acc))\n",
    "    else:\n",
    "        pass\n",
    "print(\"=====\", \"=\" * 8)\n",
    "model.load_state_dict(best_state_dict)\n",
    "train_acc = accuracy(\n",
    "    model,\n",
    "    train_input,\n",
    "    train_target,\n",
    ")\n",
    "valid_acc = accuracy(\n",
    "    model,\n",
    "    valid_input,\n",
    "    valid_target,\n",
    ")\n",
    "test_acc = accuracy(\n",
    "    model,\n",
    "    test_input,\n",
    "    test_target,\n",
    ")\n",
    "aug_test_acc = accuracy(\n",
    "    model,\n",
    "    aug_test_input,\n",
    "    aug_test_target,\n",
    ")\n",
    "print(\"=====\", \"=\" * 8)\n",
    "print(\"Data  \", \"Accuracy\")\n",
    "print(\"-----\", \"-\" * 8)\n",
    "print(\"Original Train\", \"{:.6f}\".format(train_acc))\n",
    "print(\"Original Valid\", \"{:.6f}\".format(valid_acc))\n",
    "print(\"Original Test \", \"{:.6f}\".format(test_acc))\n",
    "print(\"Rotated  Test  \", \"{:.6f}\".format(aug_test_acc))\n",
    "print(\"=====\", \"=\" * 8)"
   ]
  },
  {
   "cell_type": "code",
   "execution_count": null,
   "metadata": {},
   "outputs": [],
   "source": [
    "torch.save(model, 'g-inv.pt')"
   ]
  },
  {
   "cell_type": "markdown",
   "metadata": {},
   "source": [
    "## Inference"
   ]
  },
  {
   "cell_type": "code",
   "execution_count": 16,
   "metadata": {},
   "outputs": [],
   "source": [
    "def show(img):\n",
    "    plt.imshow(img, cmap='Greys', vmin=0, interpolation='nearest')\n",
    "    plt.show()"
   ]
  },
  {
   "cell_type": "code",
   "execution_count": 17,
   "metadata": {},
   "outputs": [
    {
     "name": "stderr",
     "output_type": "stream",
     "text": [
      "/tmp/ipykernel_18662/440698550.py:1: FutureWarning: You are using `torch.load` with `weights_only=False` (the current default value), which uses the default pickle module implicitly. It is possible to construct malicious pickle data which will execute arbitrary code during unpickling (See https://github.com/pytorch/pytorch/blob/main/SECURITY.md#untrusted-models for more details). In a future release, the default value for `weights_only` will be flipped to `True`. This limits the functions that could be executed during unpickling. Arbitrary objects will no longer be allowed to be loaded via this mode unless they are explicitly allowlisted by the user via `torch.serialization.add_safe_globals`. We recommend you start setting `weights_only=True` for any use case where you don't have full control of the loaded file. Please open an issue on GitHub for any issues related to this experimental feature.\n",
      "  mlp = torch.load('mlp.pt')\n"
     ]
    }
   ],
   "source": [
    "mlp = torch.load('mlp.pt')"
   ]
  },
  {
   "cell_type": "code",
   "execution_count": 18,
   "metadata": {},
   "outputs": [
    {
     "name": "stderr",
     "output_type": "stream",
     "text": [
      "/tmp/ipykernel_18662/1659664515.py:1: FutureWarning: You are using `torch.load` with `weights_only=False` (the current default value), which uses the default pickle module implicitly. It is possible to construct malicious pickle data which will execute arbitrary code during unpickling (See https://github.com/pytorch/pytorch/blob/main/SECURITY.md#untrusted-models for more details). In a future release, the default value for `weights_only` will be flipped to `True`. This limits the functions that could be executed during unpickling. Arbitrary objects will no longer be allowed to be loaded via this mode unless they are explicitly allowlisted by the user via `torch.serialization.add_safe_globals`. We recommend you start setting `weights_only=True` for any use case where you don't have full control of the loaded file. Please open an issue on GitHub for any issues related to this experimental feature.\n",
      "  g_inv = torch.load('g-inv.pt')\n"
     ]
    }
   ],
   "source": [
    "g_inv = torch.load('g-inv.pt')"
   ]
  },
  {
   "cell_type": "code",
   "execution_count": 26,
   "metadata": {
    "scrolled": true
   },
   "outputs": [
    {
     "data": {
      "image/png": "[encoded data removed]",
      "text/plain": [
       "<Figure size 640x480 with 1 Axes>"
      ]
     },
     "metadata": {},
     "output_type": "display_data"
    }
   ],
   "source": [
    "import random\n",
    "\n",
    "image = train_input[random.randint(0, 100)].reshape(28, 28)\n",
    "show(image)"
   ]
  },
  {
   "cell_type": "code",
   "execution_count": 27,
   "metadata": {},
   "outputs": [],
   "source": [
    "rotated_image = transforms.functional.affine_image(image.unsqueeze(0), angle=-90, translate=(0,0), scale=1, shear=[0])[0]"
   ]
  },
  {
   "cell_type": "code",
   "execution_count": 28,
   "metadata": {},
   "outputs": [
    {
     "data": {
      "image/png": "[encoded data removed]",
      "text/plain": [
       "<Figure size 640x480 with 1 Axes>"
      ]
     },
     "metadata": {},
     "output_type": "display_data"
    }
   ],
   "source": [
    "show(rotated_image)"
   ]
  },
  {
   "cell_type": "code",
   "execution_count": 29,
   "metadata": {},
   "outputs": [
    {
     "data": {
      "text/plain": [
       "tensor(2)"
      ]
     },
     "execution_count": 29,
     "metadata": {},
     "output_type": "execute_result"
    }
   ],
   "source": [
    "mlp(image.ravel()).argmax()"
   ]
  },
  {
   "cell_type": "code",
   "execution_count": 30,
   "metadata": {},
   "outputs": [
    {
     "data": {
      "text/plain": [
       "tensor(4)"
      ]
     },
     "execution_count": 30,
     "metadata": {},
     "output_type": "execute_result"
    }
   ],
   "source": [
    "mlp(rotated_image.ravel()).argmax()"
   ]
  },
  {
   "cell_type": "code",
   "execution_count": 40,
   "metadata": {},
   "outputs": [],
   "source": [
    "import numpy as np"
   ]
  },
  {
   "cell_type": "code",
   "execution_count": null,
   "metadata": {},
   "outputs": [],
   "source": [
    "np.allclose(g_inv(image.ravel()).numpy)"
   ]
  },
  {
   "cell_type": "code",
   "execution_count": 39,
   "metadata": {
    "scrolled": true
   },
   "outputs": [
    {
     "ename": "NameError",
     "evalue": "name 'float8' is not defined",
     "output_type": "error",
     "traceback": [
      "\u001b[0;31m---------------------------------------------------------------------------\u001b[0m",
      "\u001b[0;31mNameError\u001b[0m                                 Traceback (most recent call last)",
      "Cell \u001b[0;32mIn[39], line 1\u001b[0m\n\u001b[0;32m----> 1\u001b[0m g_inv(image\u001b[38;5;241m.\u001b[39mravel())\u001b[38;5;241m.\u001b[39mto(\u001b[43mfloat8\u001b[49m)\n",
      "\u001b[0;31mNameError\u001b[0m: name 'float8' is not defined"
     ]
    }
   ],
   "source": [
    "g_inv(image.ravel())"
   ]
  },
  {
   "cell_type": "code",
   "execution_count": 34,
   "metadata": {},
   "outputs": [
    {
     "data": {
      "text/plain": [
       "tensor([ 8.9737, 10.2703, 17.6802,  9.9952, 13.4348,  5.3488,  3.9829, 13.4264,\n",
       "        10.1660,  1.8351], grad_fn=<ViewBackward0>)"
      ]
     },
     "execution_count": 34,
     "metadata": {},
     "output_type": "execute_result"
    }
   ],
   "source": [
    "g_inv(rotated_image.ravel())"
   ]
  },
  {
   "cell_type": "code",
   "execution_count": null,
   "metadata": {},
   "outputs": [],
   "source": []
  }
 ],
 "metadata": {
  "celltoolbar": "Slideshow",
  "kernelspec": {
   "display_name": "Python 3 (ipykernel)",
   "language": "python",
   "name": "python3"
  },
  "language_info": {
   "codemirror_mode": {
    "name": "ipython",
    "version": 3
   },
   "file_extension": ".py",
   "mimetype": "text/x-python",
   "name": "python",
   "nbconvert_exporter": "python",
   "pygments_lexer": "ipython3",
   "version": "3.12.5"
  },
  "latex_envs": {
   "LaTeX_envs_menu_present": true,
   "autoclose": false,
   "autocomplete": true,
   "bibliofile": "biblio.bib",
   "cite_by": "apalike",
   "current_citInitial": 1,
   "eqLabelWithNumbers": true,
   "eqNumInitial": 1,
   "hotkeys": {
    "equation": "Ctrl-E",
    "itemize": "Ctrl-I"
   },
   "labels_anchors": false,
   "latex_user_defs": false,
   "report_style_numbering": false,
   "user_envs_cfg": false
  }
 },
 "nbformat": 4,
 "nbformat_minor": 4
}
