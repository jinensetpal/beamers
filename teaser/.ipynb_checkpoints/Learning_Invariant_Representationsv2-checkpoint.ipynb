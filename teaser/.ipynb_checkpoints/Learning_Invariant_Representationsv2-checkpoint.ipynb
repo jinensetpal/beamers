{
 "cells": [
  {
   "cell_type": "markdown",
   "metadata": {
    "slideshow": {
     "slide_type": "slide"
    }
   },
   "source": [
    "## Copyright: <a href=\"https://www.cs.purdue.edu/homes/ribeirob/\">Bruno Ribeiro</a> with help by S. Chandra Mouli\n",
    "### Adapted for the ML@Purdue Spring 2024 Callout\n",
    "----\n",
    "\n",
    "# Learning G-Invariant Representations"
   ]
  },
  {
   "cell_type": "markdown",
   "metadata": {},
   "source": [
    "## Setup"
   ]
  },
  {
   "cell_type": "code",
   "execution_count": 1,
   "metadata": {},
   "outputs": [],
   "source": [
    "# All imports.\n",
    "import torch\n",
    "import numpy as onp\n",
    "from sklearn.model_selection import train_test_split\n",
    "import seaborn as sns\n",
    "import matplotlib.pyplot as plt\n",
    "import pandas as pd\n",
    "import multiprocessing as mp\n",
    "from functools import partial\n",
    "from sklearn.metrics import balanced_accuracy_score\n",
    "from torchvision import transforms\n",
    "import copy\n",
    "\n",
    "\n",
    "# Use notebook context for seaborn.\n",
    "#sns.set_theme(context=\"notebook\")\n",
    "\n",
    "\n",
    "# Load MNIST data.\n",
    "image_tensor, label_tensor = torch.load(\"mnist.pt\")\n",
    "image_array, label_array = image_tensor.numpy(), label_tensor.numpy()\n",
    "num_images, height, width = image_array.shape\n",
    "\n",
    "\n",
    "# Split into training, validation and test by famous 7/1/2.\n",
    "# Just work on a single one fold.\n",
    "indices, labels = onp.arange(len(label_array)), label_array\n",
    "rest_indices, test_indices, rest_labels, test_labels = train_test_split(\n",
    "    indices, labels,\n",
    "    test_size=2 / (7 + 1 + 2), random_state=0, shuffle=True, stratify=labels,\n",
    ")\n",
    "train_indices, valid_indices, train_labels, valid_labels = train_test_split(\n",
    "    rest_indices, rest_labels,\n",
    "    test_size=1 / (7 + 1), random_state=0, shuffle=True, stratify=rest_labels,\n",
    ")\n",
    "train_image_array = image_array[train_indices]\n",
    "train_label_array = label_array[train_indices]\n",
    "valid_image_array = image_array[valid_indices]\n",
    "valid_label_array = label_array[valid_indices]\n",
    "test_image_array = image_array[test_indices]\n",
    "test_label_array = label_array[test_indices]\n",
    "\n",
    "\n",
    "# Augment test by rotations.\n",
    "aug_image_buf = []\n",
    "aug_label_buf = []\n",
    "for degree in (0, 90, 180, 270):\n",
    "    aug_image_buf.append(\n",
    "        onp.rot90(\n",
    "            test_image_array, degree // 90,\n",
    "            axes=(1, 2),\n",
    "        ),\n",
    "    )\n",
    "    aug_label_buf.append(test_label_array)\n",
    "aug_test_image_array = onp.concatenate(\n",
    "    aug_image_buf,\n",
    "    axis=0,\n",
    ")\n",
    "aug_test_label_array = onp.concatenate(\n",
    "    aug_label_buf,\n",
    "    axis=0,\n",
    ")\n",
    "\n",
    "\n",
    "# Define 90-rotation function.\n",
    "def rotate_array(array, degree):\n",
    "    if (array.ndim == 2 and degree % 90 == 0):\n",
    "        return onp.rot90(array, degree // 90)\n",
    "    else:\n",
    "        print(\"Can only rorate 2D array by 90n degrees.\")\n",
    "        raise RuntimeError\n",
    "\n",
    "\n",
    "# Define average of 4 rotations (0, 90, 180, 270) function.\n",
    "def averaged_four_rotations(array):\n",
    "    buf = []\n",
    "    for degree in (0, 90, 180, 270):\n",
    "        buf.append(rotate_array(array, degree))\n",
    "    return sum(buf) / len(buf)\n",
    "\n",
    "\n",
    "# Define focusing label.\n",
    "FOCUS_LABEL = 3\n",
    "FIRST_TRAIN_FOCUS = onp.where(train_label_array == FOCUS_LABEL)[0][0]\n",
    "FIRST_VALID_FOCUS = onp.where(valid_label_array == FOCUS_LABEL)[0][0]\n",
    "FIRST_TEST_FOCUS = onp.where(test_label_array == FOCUS_LABEL)[0][0]\n",
    "\n",
    "\n",
    "# # Render an image with four rotations as example.\n",
    "# # Use pandas.DataFrame to fit for seaborn.\n",
    "# render_table = {\"Degree\": [], \"Image\": []}\n",
    "# example_image = image_array[FIRST_TRAIN_FOCUS]\n",
    "# example_label = label_array[FIRST_TRAIN_FOCUS].item()\n",
    "# for degree in (0, 90, 180, 270):\n",
    "#     rotated_example_image = rotate_array(example_image, degree)\n",
    "#     render_table[\"Degree\"].append(degree)\n",
    "#     render_table[\"Image\"].append(rotated_example_image)\n",
    "# render_frame = pd.DataFrame(render_table)\n",
    "# grid = sns.FacetGrid(\n",
    "#     render_frame,\n",
    "#     col=\"Degree\", col_wrap=2, hue=\"Degree\",\n",
    "# )\n",
    "# grid.map(\n",
    "#     lambda df, *args, **kwargs: sns.heatmap(\n",
    "#         df.values[0],\n",
    "#         cmap=\"gray\", cbar=False, square=True,\n",
    "#     ),\n",
    "#     \"Image\",\n",
    "# )\n",
    "# for ax, degree in zip(grid.axes.flat, (0, 90, 180, 270)):\n",
    "#     ax.get_xaxis().set_visible(False)\n",
    "#     ax.get_yaxis().set_visible(False)\n",
    "#     ax.set_title(\n",
    "#         \"Rotation Degree = {:d}$^\\\\circ$\".format(degree),\n",
    "#         fontdict=dict(fontsize=12),\n",
    "#     )\n",
    "# grid.fig.suptitle(\n",
    "#     \"Label = {:d}\".format(example_label),\n",
    "#     fontsize=16,\n",
    "# )\n",
    "# grid.tight_layout()\n",
    "# grid.savefig(\"example_image.png\")\n",
    "# plt.close(\"all\")\n",
    "\n",
    "def showSubspace(subspace, Wshape, ndim=-1, channels=False):\n",
    "    subspace = subspace.T\n",
    "\n",
    "    if ndim == -1:\n",
    "        ndim = subspace.shape[0]\n",
    "    subspace = subspace[:ndim]\n",
    "\n",
    "    ndim = subspace.shape[0]\n",
    "    maxCols = min(ndim, 4)\n",
    "\n",
    "    for j in range(ndim):\n",
    "        if j % maxCols == 0:\n",
    "            plt.show()\n",
    "            nCols = maxCols if ndim - j > maxCols else ndim - j\n",
    "            fig, axes = plt.subplots(1, nCols, figsize=(12 * nCols // 2, 9 // 2))\n",
    "            try:\n",
    "                axes[0]\n",
    "            except:\n",
    "                axes = [axes]\n",
    "\n",
    "        kernel = subspace[j]\n",
    "        kernel = kernel.reshape(*Wshape)\n",
    "\n",
    "        if len(kernel.shape) == 3:\n",
    "            kernel = kernel.transpose(1, 2, 0)\n",
    "            if channels:\n",
    "                kernel = np.concatenate([kernel[:, :, c] for c in range(kernel.shape[-1])], axis=1)\n",
    "                axes[j%maxCols].add_patch(patches.Rectangle((-0.45, -0.45), 2.95, 2.95, facecolor='none', linestyle='--', linewidth=2, edgecolor='tab:red'))\n",
    "                axes[j%maxCols].add_patch(patches.Rectangle((2.55, -0.45), 2.95, 2.95, facecolor='none', linestyle='--', linewidth=2, edgecolor='tab:green'))\n",
    "                axes[j%maxCols].add_patch(patches.Rectangle((5.55, -0.45), 2.95, 2.95, facecolor='none', linestyle='--', linewidth=2, edgecolor='tab:blue'))\n",
    "\n",
    "        axes[j%maxCols].imshow(kernel.round(decimals=6), cmap=\"Greys\")\n",
    "        axes[j%maxCols].set_xticklabels([0] + [0, 1, 2] * 3)\n",
    "\n",
    "    plt.show()\n",
    "\n",
    "\n",
    "\n",
    "# Construct specified onehot for flattened image and apply rotation.\n",
    "def transformed_onehot(onehot_loc, transform_func, shape):\n",
    "    # Get flattened onehot.\n",
    "    numel = onp.prod(shape)\n",
    "    onehot = onp.zeros(numel)\n",
    "    onehot[onehot_loc] = 1\n",
    "\n",
    "    # Transform onehot with specific shape view and flatten back.\n",
    "    transformed_vec = transform_func(onehot.reshape(*shape))\n",
    "    return transformed_vec.reshape(numel)\n",
    "\n",
    "\n",
    "# Define number of CPUs to use for subspace generation.\n",
    "NUM_TRANSFORM_CPUS = 12\n",
    "\n",
    "\n",
    "# Apply given transformation on onehot corresponding to each pixel of 2D image.\n",
    "# Use Python multiprocessing since it is work with numpy array.\n",
    "# If it is torch Tensor, it is recommended to use PyTorch wrapped version of\n",
    "# multiprocessing (torch.multiprocessing).\n",
    "def get_invariant_subspace(transform_func, shape):\n",
    "    # Use multiprocessing to get transformation matrix correspond to given\n",
    "    # transformation function by paralleling onehot dimensions.\n",
    "    numel = onp.prod(shape)\n",
    "    pool = mp.Pool(NUM_TRANSFORM_CPUS)\n",
    "    transformed_buf = pool.map(\n",
    "        partial(\n",
    "            transformed_onehot,\n",
    "            transform_func=transform_func, shape=shape,\n",
    "        ),\n",
    "        range(numel),\n",
    "    )\n",
    "    pool.close()\n",
    "    pool.join()\n",
    "    transform_mat = onp.stack(\n",
    "        transformed_buf,\n",
    "        axis=1,\n",
    "    )\n",
    "\n",
    "    # Eigenvectors is used to describe the transformation subspace.\n",
    "    # Use right side of decomposition thus eigenvectors are located at rows.\n",
    "    # Transformation matrix is assumed to be real symmetric, thus Hermitian is\n",
    "    # used for optimization.\n",
    "    _, eigenvalues, eigenvectors = onp.linalg.svd(\n",
    "        transform_mat,\n",
    "        hermitian=True,\n",
    "    )\n",
    "\n",
    "    # Eigenvalues are sorted from high to low, thus for over rank eigenvectors,\n",
    "    # they are null eigenvectors assigned with 0 eigenvalues.\n",
    "    # We should focus on non-trival eigenvectors.\n",
    "    rank = onp.linalg.matrix_rank(\n",
    "        onp.diag(eigenvalues),\n",
    "        hermitian=True,\n",
    "    )\n",
    "    ntri_eigenvectors = eigenvectors[:rank]\n",
    "    null_eigenvectors = eigenvectors[rank:]\n",
    "    return transform_mat, ntri_eigenvectors.T, null_eigenvectors.T, eigenvalues\n",
    "\n",
    "\n",
    "\n",
    "# Define the test.\n",
    "def accuracy(model, input, target):\n",
    "    output = model.forward(input)\n",
    "    _, predict = torch.max(\n",
    "        output,\n",
    "        dim=1,\n",
    "    )\n",
    "    return balanced_accuracy_score(\n",
    "        y_true=target.tolist(), y_pred=predict.tolist(),\n",
    "    )\n",
    "\n",
    "\n",
    "# Prepare tensors.\n",
    "train_input = torch.from_numpy(train_image_array).float()\n",
    "train_input = train_input.view(len(train_label_array), height * width)\n",
    "train_target = torch.from_numpy(train_label_array).long()\n",
    "valid_input = torch.from_numpy(valid_image_array).float()\n",
    "valid_input = valid_input.view(len(valid_label_array), height * width)\n",
    "valid_target = torch.from_numpy(valid_label_array).long()\n",
    "test_input = torch.from_numpy(test_image_array).float()\n",
    "test_input = test_input.view(len(test_label_array), height * width)\n",
    "test_target = torch.from_numpy(test_label_array).long()\n",
    "aug_test_input = torch.from_numpy(aug_test_image_array).float()\n",
    "aug_test_input = aug_test_input.view(len(aug_test_label_array), height * width)\n",
    "aug_test_target = torch.from_numpy(aug_test_label_array).long()\n",
    "\n",
    "\n",
    "# Global training settings.\n",
    "BATCH_SIZE = 128\n",
    "LR = 1e-3\n",
    "WDECAY = 5e-5\n",
    "NUM_EPOCHS = 100\n",
    "NUM_BATCHES = len(train_input) // BATCH_SIZE\n",
    "NUM_SAMPLES = NUM_BATCHES * BATCH_SIZE\n",
    "\n",
    "# Define 90-rotation function.\n",
    "def rotate_array(array, degree):\n",
    "    if (array.ndim == 2 and degree % 90 == 0):\n",
    "        return onp.rot90(array, degree // 90)\n",
    "    else:\n",
    "        print(\"Can only rorate 2D array by 90n degrees.\")\n",
    "        raise RuntimeError\n",
    "\n",
    "\n",
    "# Define average of 4 rotations (0, 90, 180, 270) function.\n",
    "def averaged_four_rotations(array):\n",
    "    buf = []\n",
    "    for degree in (0, 90, 180, 270):\n",
    "        buf.append(rotate_array(array, degree))\n",
    "    return sum(buf) / len(buf)"
   ]
  },
  {
   "cell_type": "code",
   "execution_count": 2,
   "metadata": {
    "slideshow": {
     "slide_type": "-"
    }
   },
   "outputs": [],
   "source": [
    "# Define 90-rotation function.\n",
    "def rotate_array(array, degree):\n",
    "    if (array.ndim == 2 and degree % 90 == 0):\n",
    "        return onp.rot90(array, degree // 90)\n",
    "    else:\n",
    "        print(\"Can only rorate 2D array by 90n degrees.\")\n",
    "        raise RuntimeError\n",
    "\n",
    "\n",
    "# Define average of 4 rotations (0, 90, 180, 270) function.\n",
    "def averaged_four_rotations(array):\n",
    "    buf = []\n",
    "    for degree in (0, 90, 180, 270):\n",
    "        buf.append(rotate_array(array, degree))\n",
    "    return sum(buf) / len(buf)\n",
    "\n"
   ]
  },
  {
   "cell_type": "code",
   "execution_count": 3,
   "metadata": {
    "slideshow": {
     "slide_type": "-"
    }
   },
   "outputs": [],
   "source": [
    "# Define number of CPUs to use for subspace generation.\n",
    "NUM_TRANSFORM_CPUS = 4\n",
    "\n",
    "#Important variables\n",
    "#  - transform_mat is out Reynods operator \\bar{T}\n",
    "#  - null_eigenvectors are the eigenvectors of \\bar{T}\n",
    "\n",
    "# Apply given transformation on onehot corresponding to each pixel of 2D image.\n",
    "# Use Python multiprocessing since it is work with numpy array.\n",
    "# If it is torch Tensor, it is recommended to use PyTorch wrapped version of\n",
    "# multiprocessing (torch.multiprocessing).\n",
    "def get_invariant_subspace(transform_func, shape):\n",
    "    # Use multiprocessing to get transformation matrix correspond to given\n",
    "    # transformation function by paralleling onehot dimensions.\n",
    "    numel = onp.prod(shape)\n",
    "    pool = mp.Pool(NUM_TRANSFORM_CPUS)\n",
    "    transformed_buf = pool.map(\n",
    "        partial(\n",
    "            transformed_onehot,\n",
    "            transform_func=transform_func, shape=shape,\n",
    "        ),\n",
    "        range(numel),\n",
    "    )\n",
    "    pool.close()\n",
    "    pool.join()\n",
    "    \n",
    "    # Form a single Reynods operator matrix from all results\n",
    "    transform_mat = onp.stack(transformed_buf,axis=1)\n",
    "\n",
    "    # Eigenvectors is used to describe the transformation subspace.\n",
    "    # Use right side of decomposition thus eigenvectors are located at rows.\n",
    "    # Transformation matrix is assumed to be real symmetric, thus Hermitian is\n",
    "    # used for optimization.\n",
    "    _, eigenvalues, eigenvectors = onp.linalg.svd(transform_mat,hermitian=True)\n",
    "\n",
    "    # Eigenvalues are sorted from high to low, thus for over rank eigenvectors,\n",
    "    # they are null eigenvectors assigned with 0 eigenvalues.\n",
    "    # We should focus on non-trival eigenvectors.\n",
    "    rank = onp.linalg.matrix_rank(onp.diag(eigenvalues),hermitian=True)\n",
    "    \n",
    "    eigenvectors = eigenvectors[:rank]\n",
    "    return transform_mat, eigenvectors.T\n"
   ]
  },
  {
   "cell_type": "markdown",
   "metadata": {
    "slideshow": {
     "slide_type": "slide"
    }
   },
   "source": [
    "### Eigenvectors of the Reynolds Operator"
   ]
  },
  {
   "cell_type": "code",
   "execution_count": 4,
   "metadata": {
    "slideshow": {
     "slide_type": "-"
    }
   },
   "outputs": [
    {
     "name": "stdout",
     "output_type": "stream",
     "text": [
      "The Reynolds operator tranformation matrix has dimension (784, 784)\n",
      "The subspace W is the subspace span by 196 eigenvectors\n",
      "--- First 16 eigenvectors shown as images ---\n"
     ]
    },
    {
     "name": "stderr",
     "output_type": "stream",
     "text": [
      "/tmp/ipykernel_28204/3125551398.py:157: UserWarning: set_ticklabels() should only be used with a fixed number of ticks, i.e. after set_ticks() or using a FixedLocator.\n",
      "  axes[j%maxCols].set_xticklabels([0] + [0, 1, 2] * 3)\n",
      "/tmp/ipykernel_28204/3125551398.py:157: UserWarning: set_ticklabels() should only be used with a fixed number of ticks, i.e. after set_ticks() or using a FixedLocator.\n",
      "  axes[j%maxCols].set_xticklabels([0] + [0, 1, 2] * 3)\n",
      "/tmp/ipykernel_28204/3125551398.py:157: UserWarning: set_ticklabels() should only be used with a fixed number of ticks, i.e. after set_ticks() or using a FixedLocator.\n",
      "  axes[j%maxCols].set_xticklabels([0] + [0, 1, 2] * 3)\n",
      "/tmp/ipykernel_28204/3125551398.py:157: UserWarning: set_ticklabels() should only be used with a fixed number of ticks, i.e. after set_ticks() or using a FixedLocator.\n",
      "  axes[j%maxCols].set_xticklabels([0] + [0, 1, 2] * 3)\n"
     ]
    },
    {
     "data": {
      "image/png": "[encoded data removed]",
      "text/plain": [
       "<Figure size 2400x400 with 4 Axes>"
      ]
     },
     "metadata": {},
     "output_type": "display_data"
    },
    {
     "name": "stderr",
     "output_type": "stream",
     "text": [
      "/tmp/ipykernel_28204/3125551398.py:157: UserWarning: set_ticklabels() should only be used with a fixed number of ticks, i.e. after set_ticks() or using a FixedLocator.\n",
      "  axes[j%maxCols].set_xticklabels([0] + [0, 1, 2] * 3)\n",
      "/tmp/ipykernel_28204/3125551398.py:157: UserWarning: set_ticklabels() should only be used with a fixed number of ticks, i.e. after set_ticks() or using a FixedLocator.\n",
      "  axes[j%maxCols].set_xticklabels([0] + [0, 1, 2] * 3)\n",
      "/tmp/ipykernel_28204/3125551398.py:157: UserWarning: set_ticklabels() should only be used with a fixed number of ticks, i.e. after set_ticks() or using a FixedLocator.\n",
      "  axes[j%maxCols].set_xticklabels([0] + [0, 1, 2] * 3)\n",
      "/tmp/ipykernel_28204/3125551398.py:157: UserWarning: set_ticklabels() should only be used with a fixed number of ticks, i.e. after set_ticks() or using a FixedLocator.\n",
      "  axes[j%maxCols].set_xticklabels([0] + [0, 1, 2] * 3)\n"
     ]
    },
    {
     "data": {
      "image/png": "[encoded data removed]",
      "text/plain": [
       "<Figure size 2400x400 with 4 Axes>"
      ]
     },
     "metadata": {},
     "output_type": "display_data"
    },
    {
     "name": "stderr",
     "output_type": "stream",
     "text": [
      "/tmp/ipykernel_28204/3125551398.py:157: UserWarning: set_ticklabels() should only be used with a fixed number of ticks, i.e. after set_ticks() or using a FixedLocator.\n",
      "  axes[j%maxCols].set_xticklabels([0] + [0, 1, 2] * 3)\n",
      "/tmp/ipykernel_28204/3125551398.py:157: UserWarning: set_ticklabels() should only be used with a fixed number of ticks, i.e. after set_ticks() or using a FixedLocator.\n",
      "  axes[j%maxCols].set_xticklabels([0] + [0, 1, 2] * 3)\n",
      "/tmp/ipykernel_28204/3125551398.py:157: UserWarning: set_ticklabels() should only be used with a fixed number of ticks, i.e. after set_ticks() or using a FixedLocator.\n",
      "  axes[j%maxCols].set_xticklabels([0] + [0, 1, 2] * 3)\n",
      "/tmp/ipykernel_28204/3125551398.py:157: UserWarning: set_ticklabels() should only be used with a fixed number of ticks, i.e. after set_ticks() or using a FixedLocator.\n",
      "  axes[j%maxCols].set_xticklabels([0] + [0, 1, 2] * 3)\n"
     ]
    },
    {
     "data": {
      "image/png": "[encoded data removed]",
      "text/plain": [
       "<Figure size 2400x400 with 4 Axes>"
      ]
     },
     "metadata": {},
     "output_type": "display_data"
    },
    {
     "name": "stderr",
     "output_type": "stream",
     "text": [
      "/tmp/ipykernel_28204/3125551398.py:157: UserWarning: set_ticklabels() should only be used with a fixed number of ticks, i.e. after set_ticks() or using a FixedLocator.\n",
      "  axes[j%maxCols].set_xticklabels([0] + [0, 1, 2] * 3)\n",
      "/tmp/ipykernel_28204/3125551398.py:157: UserWarning: set_ticklabels() should only be used with a fixed number of ticks, i.e. after set_ticks() or using a FixedLocator.\n",
      "  axes[j%maxCols].set_xticklabels([0] + [0, 1, 2] * 3)\n",
      "/tmp/ipykernel_28204/3125551398.py:157: UserWarning: set_ticklabels() should only be used with a fixed number of ticks, i.e. after set_ticks() or using a FixedLocator.\n",
      "  axes[j%maxCols].set_xticklabels([0] + [0, 1, 2] * 3)\n",
      "/tmp/ipykernel_28204/3125551398.py:157: UserWarning: set_ticklabels() should only be used with a fixed number of ticks, i.e. after set_ticks() or using a FixedLocator.\n",
      "  axes[j%maxCols].set_xticklabels([0] + [0, 1, 2] * 3)\n"
     ]
    },
    {
     "data": {
      "image/png": "[encoded data removed]",
      "text/plain": [
       "<Figure size 2400x400 with 4 Axes>"
      ]
     },
     "metadata": {},
     "output_type": "display_data"
    }
   ],
   "source": [
    "transform_mat, eigenvectors = get_invariant_subspace(averaged_four_rotations, (height, width))\n",
    "\n",
    "print(f\"The Reynolds operator tranformation matrix has dimension {transform_mat.shape}\")\n",
    "print(f\"The subspace W is the subspace span by {eigenvectors.shape[1]} eigenvectors\")\n",
    "print(\"--- First 16 eigenvectors shown as images ---\")\n",
    "showSubspace(eigenvectors, (height, width), ndim=16, channels=False)"
   ]
  },
  {
   "cell_type": "markdown",
   "metadata": {
    "slideshow": {
     "slide_type": "slide"
    }
   },
   "source": [
    "## Standard MLP"
   ]
  },
  {
   "cell_type": "code",
   "execution_count": 5,
   "metadata": {},
   "outputs": [],
   "source": [
    "import torch.nn as nn\n",
    "\n",
    "class MLP(nn.Module):\n",
    "    def __init__(self):\n",
    "        super().__init__()\n",
    "        \n",
    "        # We will later replace the first layer with a G-invariant layer.\n",
    "        # Rest of the code remains the same.\n",
    "        self.first_layer = nn.Linear(784, 50)\n",
    "        \n",
    "        self.mlp = nn.Sequential(\n",
    "                self.first_layer,\n",
    "                nn.ReLU(),\n",
    "                nn.Linear(50, 10)\n",
    "        )\n",
    "                \n",
    "    def forward(self, X):\n",
    "        out = self.mlp(X)\n",
    "        return out\n",
    "        \n",
    "model = MLP()"
   ]
  },
  {
   "cell_type": "code",
   "execution_count": 6,
   "metadata": {
    "slideshow": {
     "slide_type": "-"
    }
   },
   "outputs": [
    {
     "name": "stdout",
     "output_type": "stream",
     "text": [
      "===== ========\n",
      "Epoch Train Accuracy\n",
      "----- --------\n",
      "    1 0.851410\n",
      "    2 0.887785\n",
      "    3 0.898195\n",
      "    4 0.908826\n",
      "    5 0.918208\n",
      "    6 0.918675\n",
      "    7 0.920262\n",
      "    8 0.923029\n",
      "    9 0.923721\n",
      "   10 0.930475\n",
      "   11 0.932386\n",
      "   12 0.934390\n",
      "   13 0.937980\n",
      "   17 0.940085\n",
      "   18 0.940354\n",
      "   21 0.940705\n",
      "   22 0.941977\n",
      "   24 0.943924\n",
      "   32 0.944013\n",
      "   34 0.945316\n",
      "   38 0.945602\n",
      "   53 0.945721\n",
      "  100 0.943073\n",
      "===== ========\n",
      "===== ========\n",
      "Data  \tAccuracy\n",
      "----- --------\n",
      "Original Train 0.985835\n",
      "Original Valid 0.945721\n",
      "Original Test  0.949801\n",
      "Rotated  Test  0.367975\n",
      "===== ========\n"
     ]
    }
   ],
   "source": [
    "# Standard MLP with 1 hidden layer.\n",
    "rng = torch.Generator(\"cpu\")\n",
    "rng.manual_seed(0)\n",
    "\n",
    "# Use Pytorch's pre-defined SGD optimizer\n",
    "optimizer = torch.optim.SGD(model.parameters(),lr=LR)\n",
    "\n",
    "best_acc = 0\n",
    "best_state_dict = copy.deepcopy(model.state_dict())\n",
    "print(\"=====\", \"=\" * 8)\n",
    "print(\"Epoch\", \"Train Accuracy\")\n",
    "print(\"-----\", \"-\" * 8)\n",
    "for epc in range(NUM_EPOCHS):\n",
    "    # Creates a mini-batch\n",
    "    for batch_cnt, batch_itr in enumerate(\n",
    "        torch.randperm(\n",
    "            len(train_input),\n",
    "            generator=rng,\n",
    "        )[0:NUM_SAMPLES].view(\n",
    "            NUM_BATCHES, BATCH_SIZE,\n",
    "        ),\n",
    "    ):\n",
    "        # Zero gradients of optimize\n",
    "        optimizer.zero_grad()\n",
    "        # Forward pass of model\n",
    "        train_output = model(train_input[batch_itr])\n",
    "        # Define loss\n",
    "        train_loss = torch.nn.functional.cross_entropy(train_output, train_target[batch_itr])\n",
    "        # Backprop\n",
    "        train_loss.backward()\n",
    "        # One gradient step\n",
    "        optimizer.step()\n",
    "        \n",
    "    valid_acc = accuracy(model, valid_input, valid_target)\n",
    "    if (valid_acc > best_acc):\n",
    "        print(\"{:5d} {:.6f}\".format(epc + 1, valid_acc))\n",
    "        best_acc = valid_acc\n",
    "        best_state_dict = copy.deepcopy(model.state_dict())\n",
    "    elif ((epc + 1) % 100 == 0):\n",
    "        print(\"{:5d} {:.6f}\".format(epc + 1, valid_acc))\n",
    "    else:\n",
    "        pass\n",
    "print(\"=====\", \"=\" * 8)\n",
    "model.load_state_dict(best_state_dict)\n",
    "train_acc = accuracy(model, train_input, train_target)\n",
    "valid_acc = accuracy(model, valid_input, valid_target)\n",
    "test_acc = accuracy(model, test_input, test_target)\n",
    "aug_test_acc = accuracy(model, aug_test_input, aug_test_target)\n",
    "print(\"=====\", \"=\" * 8)\n",
    "print(\"Data \", \"\\tAccuracy\")\n",
    "print(\"-----\", \"-\" * 8)\n",
    "print(\"Original Train\", \"{:.6f}\".format(train_acc))\n",
    "print(\"Original Valid\", \"{:.6f}\".format(valid_acc))\n",
    "print(\"Original Test \", \"{:.6f}\".format(test_acc))\n",
    "print(\"Rotated  Test \", \"{:.6f}\".format(aug_test_acc))\n",
    "print(\"=====\", \"=\" * 8)\n"
   ]
  },
  {
   "cell_type": "code",
   "execution_count": null,
   "metadata": {},
   "outputs": [],
   "source": [
    "torch.save(model, 'mlp.pt')"
   ]
  },
  {
   "cell_type": "markdown",
   "metadata": {
    "slideshow": {
     "slide_type": "slide"
    }
   },
   "source": [
    "## G-Invariant MLP"
   ]
  },
  {
   "cell_type": "code",
   "execution_count": 7,
   "metadata": {},
   "outputs": [],
   "source": [
    "import math\n",
    "eigentensor = torch.from_numpy(eigenvectors).float()\n",
    "\n",
    "class GInvariantLayer(nn.Module):\n",
    "    \n",
    "    def __init__(self, input_dim, output_dim):\n",
    "        super().__init__()\n",
    "        \n",
    "        # Load the left 1-eigenvectors of the Reynolds operator that we computed before.\n",
    "        self.basis = eigentensor.T\n",
    "        assert self.basis.shape[1] == input_dim\n",
    "        \n",
    "        self.coeffs = nn.Parameter(torch.Tensor(output_dim, self.basis.shape[0], 1))\n",
    "        self.bias = nn.Parameter(torch.Tensor(output_dim))\n",
    "        \n",
    "        stdv = 1.0/math.sqrt(output_dim)\n",
    "        self.coeffs.data.uniform_(-stdv, stdv)\n",
    "        self.bias.data.zero_()\n",
    "    \n",
    "\n",
    "    def forward(self, X):\n",
    "        # Input shape: torch.Size([minibatch, input_dim])\n",
    "        \n",
    "        if self.basis.device != X.device:\n",
    "            self.basis = self.basis.to(X.device)\n",
    "\n",
    "        # Construct weight w \\in \\mathcal{W} (the left 1-eigenspace)\n",
    "        #      using the current learnable coefficients.\n",
    "        # coeffs: (output_dim, n_basis, 1)\n",
    "        # basis  : (n_basis, input_dim)\n",
    "        # result after torch.mul : (output_dim, n_basis, input_dim)\n",
    "        # result after sum : (output_dim, input_dim)\n",
    "        weights = torch.mul(self.coeffs, self.basis)\n",
    "        weights = weights.sum(dim=-2)\n",
    "\n",
    "        # Output shape: torch.Size([minibatch, output_dim])\n",
    "        out = X @ weights.T + self.bias\n",
    "\n",
    "        return out"
   ]
  },
  {
   "cell_type": "code",
   "execution_count": 8,
   "metadata": {},
   "outputs": [],
   "source": [
    "class GInvariantMLP(nn.Module):\n",
    "    def __init__(self):\n",
    "        super().__init__()\n",
    "        \n",
    "        # Replace the first layer with a G-invariant layer.\n",
    "        self.first_layer = GInvariantLayer(784, 50)\n",
    "        \n",
    "        self.mlp = nn.Sequential(\n",
    "                self.first_layer,\n",
    "                nn.ReLU(),\n",
    "                nn.Linear(50, 10)\n",
    "        )\n",
    "                \n",
    "    def forward(self, X):\n",
    "        out = self.mlp(X)\n",
    "        return out\n",
    "\n",
    "        \n",
    "model = GInvariantMLP()"
   ]
  },
  {
   "cell_type": "code",
   "execution_count": 9,
   "metadata": {
    "slideshow": {
     "slide_type": "-"
    }
   },
   "outputs": [
    {
     "name": "stdout",
     "output_type": "stream",
     "text": [
      "===== ========\n",
      "Epoch Train Accuracy\n",
      "----- --------\n",
      "    1 0.405637\n",
      "    2 0.423105\n",
      "    3 0.460986\n",
      "    4 0.486081\n",
      "    5 0.527968\n",
      "    6 0.545588\n",
      "    8 0.557315\n",
      "    9 0.580326\n",
      "   10 0.586195\n",
      "   12 0.588797\n",
      "   13 0.610059\n",
      "   15 0.613973\n",
      "   16 0.617354\n",
      "   17 0.618863\n",
      "   18 0.623989\n",
      "   22 0.628840\n",
      "   23 0.637002\n",
      "   24 0.645257\n",
      "   25 0.646497\n",
      "   27 0.649952\n",
      "   28 0.651136\n",
      "   30 0.651971\n",
      "   31 0.652854\n",
      "   32 0.654869\n",
      "   33 0.663725\n",
      "   35 0.665078\n",
      "   37 0.667059\n",
      "   38 0.670606\n",
      "   40 0.676621\n",
      "   44 0.677445\n",
      "   45 0.684235\n",
      "   47 0.688620\n",
      "   50 0.687995\n",
      "   55 0.693884\n",
      "   57 0.700577\n",
      "   69 0.706794\n",
      "   85 0.707536\n",
      "   90 0.709493\n",
      "   93 0.711744\n",
      "  100 0.706431\n",
      "===== ========\n",
      "===== ========\n",
      "Data   Accuracy\n",
      "----- --------\n",
      "Original Train 0.727054\n",
      "Original Valid 0.711744\n",
      "Original Test  0.718887\n",
      "Rotated  Test   0.718887\n",
      "===== ========\n"
     ]
    }
   ],
   "source": [
    "# G-invariant MLP with 1 hidden layer.\n",
    "rng = torch.Generator(\"cpu\")\n",
    "rng.manual_seed(0)\n",
    "\n",
    "# Use Pytorch's pre-defined SGD optimizer\n",
    "optimizer = torch.optim.SGD(model.parameters(),lr=LR)\n",
    "best_acc = 0\n",
    "best_state_dict = copy.deepcopy(model.state_dict())\n",
    "print(\"=====\", \"=\" * 8)\n",
    "print(\"Epoch\", \"Train Accuracy\")\n",
    "print(\"-----\", \"-\" * 8)\n",
    "linear_transform = torch.Tensor(transform_mat.T)\n",
    "for epc in range(NUM_EPOCHS):\n",
    "    for batch_cnt, batch_itr in enumerate(\n",
    "        torch.randperm(\n",
    "            len(train_input),\n",
    "            generator=rng,\n",
    "        )[0:NUM_SAMPLES].view(\n",
    "            NUM_BATCHES, BATCH_SIZE,\n",
    "        ),\n",
    "    ):\n",
    "        optimizer.zero_grad()\n",
    "        train_output = model.forward(\n",
    "            train_input[batch_itr],\n",
    "        )\n",
    "        train_loss = torch.nn.functional.cross_entropy(\n",
    "            train_output, train_target[batch_itr],\n",
    "        )\n",
    "        train_loss.backward()\n",
    "        optimizer.step()\n",
    "    valid_acc = accuracy(\n",
    "        model,\n",
    "        valid_input,\n",
    "        valid_target,\n",
    "    )\n",
    "    if (valid_acc > best_acc):\n",
    "        print(\"{:5d} {:.6f}\".format(epc + 1, valid_acc))\n",
    "        best_acc = valid_acc\n",
    "        best_state_dict = copy.deepcopy(model.state_dict())\n",
    "    elif ((epc + 1) % 50 == 0):\n",
    "        print(\"{:5d} {:.6f}\".format(epc + 1, valid_acc))\n",
    "    else:\n",
    "        pass\n",
    "print(\"=====\", \"=\" * 8)\n",
    "model.load_state_dict(best_state_dict)\n",
    "train_acc = accuracy(\n",
    "    model,\n",
    "    train_input,\n",
    "    train_target,\n",
    ")\n",
    "valid_acc = accuracy(\n",
    "    model,\n",
    "    valid_input,\n",
    "    valid_target,\n",
    ")\n",
    "test_acc = accuracy(\n",
    "    model,\n",
    "    test_input,\n",
    "    test_target,\n",
    ")\n",
    "aug_test_acc = accuracy(\n",
    "    model,\n",
    "    aug_test_input,\n",
    "    aug_test_target,\n",
    ")\n",
    "print(\"=====\", \"=\" * 8)\n",
    "print(\"Data  \", \"Accuracy\")\n",
    "print(\"-----\", \"-\" * 8)\n",
    "print(\"Original Train\", \"{:.6f}\".format(train_acc))\n",
    "print(\"Original Valid\", \"{:.6f}\".format(valid_acc))\n",
    "print(\"Original Test \", \"{:.6f}\".format(test_acc))\n",
    "print(\"Rotated  Test  \", \"{:.6f}\".format(aug_test_acc))\n",
    "print(\"=====\", \"=\" * 8)"
   ]
  },
  {
   "cell_type": "code",
   "execution_count": 17,
   "metadata": {},
   "outputs": [],
   "source": [
    "torch.save(model, 'g-inv.pt')"
   ]
  },
  {
   "cell_type": "markdown",
   "metadata": {},
   "source": [
    "## Inference"
   ]
  },
  {
   "cell_type": "code",
   "execution_count": 10,
   "metadata": {},
   "outputs": [],
   "source": [
    "def show(img):\n",
    "    plt.imshow(image, cmap='Greys', vmin=0, interpolation='nearest')\n",
    "    plt.show()"
   ]
  },
  {
   "cell_type": "code",
   "execution_count": 11,
   "metadata": {},
   "outputs": [],
   "source": [
    "mlp = torch.load('mnist.pt')"
   ]
  },
  {
   "cell_type": "code",
   "execution_count": 12,
   "metadata": {},
   "outputs": [],
   "source": [
    "g_inv = torch.load('g-inv.pt')"
   ]
  },
  {
   "cell_type": "code",
   "execution_count": 18,
   "metadata": {},
   "outputs": [
    {
     "data": {
      "image/png": "[encoded data removed]",
      "text/plain": [
       "<Figure size 640x480 with 1 Axes>"
      ]
     },
     "metadata": {},
     "output_type": "display_data"
    }
   ],
   "source": [
    "import random\n",
    "\n",
    "image = train_input[random.randint(0, 100)].reshape(28, 28)\n",
    "show(image)"
   ]
  },
  {
   "cell_type": "code",
   "execution_count": 19,
   "metadata": {},
   "outputs": [],
   "source": [
    "rotated_image = transforms.functional.affine(image.unsqueeze(0), angle=-90, translate=(0,0), scale=1, shear=[0])"
   ]
  },
  {
   "cell_type": "code",
   "execution_count": 22,
   "metadata": {},
   "outputs": [
    {
     "data": {
      "image/png": "[encoded data removed]",
      "text/plain": [
       "<Figure size 640x480 with 1 Axes>"
      ]
     },
     "metadata": {},
     "output_type": "display_data"
    }
   ],
   "source": [
    "show(rotate_array(image, 90))"
   ]
  },
  {
   "cell_type": "code",
   "execution_count": 16,
   "metadata": {
    "scrolled": true
   },
   "outputs": [
    {
     "ename": "TypeError",
     "evalue": "'tuple' object is not callable",
     "output_type": "error",
     "traceback": [
      "\u001b[0;31m---------------------------------------------------------------------------\u001b[0m",
      "\u001b[0;31mTypeError\u001b[0m                                 Traceback (most recent call last)",
      "Cell \u001b[0;32mIn[16], line 1\u001b[0m\n\u001b[0;32m----> 1\u001b[0m \u001b[43mmlp\u001b[49m\u001b[43m(\u001b[49m\u001b[43mimage\u001b[49m\u001b[38;5;241;43m.\u001b[39;49m\u001b[43mravel\u001b[49m\u001b[43m(\u001b[49m\u001b[43m)\u001b[49m\u001b[43m)\u001b[49m\u001b[38;5;241m.\u001b[39margmax()\n",
      "\u001b[0;31mTypeError\u001b[0m: 'tuple' object is not callable"
     ]
    }
   ],
   "source": [
    "mlp(image.ravel()).argmax()"
   ]
  },
  {
   "cell_type": "code",
   "execution_count": null,
   "metadata": {},
   "outputs": [],
   "source": [
    "mlp(rotated_image.ravel()).argmax()"
   ]
  },
  {
   "cell_type": "code",
   "execution_count": null,
   "metadata": {},
   "outputs": [],
   "source": [
    "g_inv(image.ravel()).argmax()"
   ]
  },
  {
   "cell_type": "code",
   "execution_count": null,
   "metadata": {},
   "outputs": [],
   "source": [
    "g_inv(rotated_image.ravel()).argmax()"
   ]
  }
 ],
 "metadata": {
  "celltoolbar": "Slideshow",
  "kernelspec": {
   "display_name": "Python 3 (ipykernel)",
   "language": "python",
   "name": "python3"
  },
  "language_info": {
   "codemirror_mode": {
    "name": "ipython",
    "version": 3
   },
   "file_extension": ".py",
   "mimetype": "text/x-python",
   "name": "python",
   "nbconvert_exporter": "python",
   "pygments_lexer": "ipython3",
   "version": "3.11.6"
  },
  "latex_envs": {
   "LaTeX_envs_menu_present": true,
   "autoclose": false,
   "autocomplete": true,
   "bibliofile": "biblio.bib",
   "cite_by": "apalike",
   "current_citInitial": 1,
   "eqLabelWithNumbers": true,
   "eqNumInitial": 1,
   "hotkeys": {
    "equation": "Ctrl-E",
    "itemize": "Ctrl-I"
   },
   "labels_anchors": false,
   "latex_user_defs": false,
   "report_style_numbering": false,
   "user_envs_cfg": false
  }
 },
 "nbformat": 4,
 "nbformat_minor": 4
}
