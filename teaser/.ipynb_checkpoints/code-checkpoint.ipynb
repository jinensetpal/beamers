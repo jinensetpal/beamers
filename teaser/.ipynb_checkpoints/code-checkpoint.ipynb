{
 "cells": [
  {
   "cell_type": "markdown",
   "metadata": {
    "slideshow": {
     "slide_type": "slide"
    }
   },
   "source": [
    "## CS69000DPL - Deep Learning \n",
    "## Spring 2023\n",
    "### Instructor and Copyright: <a href=\"https://www.cs.purdue.edu/homes/ribeirob/\">Bruno Ribeiro</a> with help by S. Chandra Mouli\n",
    "----\n",
    "\n",
    "## Learning G-Invariant Representations"
   ]
  },
  {
   "cell_type": "markdown",
   "metadata": {
    "slideshow": {
     "slide_type": "slide"
    }
   },
   "source": [
    "### Reading assigment for this lecture:\n",
    "\n",
    "The reading assigments for this lecture:\n",
    "\n",
    "Reading assigment: [Linear Algebra](https://www.deeplearningbook.org/contents/linear_algebra.html)\n",
    "\n",
    "* Chapter 2.1 (Scalars, Vectors, Matrices and Tensors)\n",
    "* Chapter 2.2 (Multiplying Matrices and Vectors)\n",
    "* Chapter 2.3 (Identity and Inverse Matrices)\n",
    "* Chapter 2.4 (Linear Dependence and Span)\n",
    "* Chapter 2.5 (Norms)\n",
    "* Chapter 2.6 (Special Kinds of Matrices and Vectors)\n",
    "* Chapter 2.7 (Eigendecomposition)\n",
    "* Chapter 2.8 (Singular Value Decomposition)\n",
    "\n",
    "Reading assigment: [Course in the Theory of Groups](https://link-springer-com.ezproxy.lib.purdue.edu/book/10.1007%2F978-1-4419-8594-1), by Robinson, Derek J.S, Springer Graduate Texts in Mathematics (Access through Purdue Library. Requires BolierKey)\n",
    "\n",
    "* Chapter 1.1 (Binary Operations, Semigroups, and Groups)\n",
    "* Chapter 1.2 (Examples of Groups) Groups of Matrices, of Linear Transformations, of  Isometries, of Permutations\n",
    "* Chapter 1.3 (Subgroups and Cosets) Subgroups, Intersections, Subgroup Generation, Hasse Diagrams, Normal Subgroups, "
   ]
  },
  {
   "cell_type": "markdown",
   "metadata": {
    "slideshow": {
     "slide_type": "slide"
    }
   },
   "source": [
    "### Understanding Symmetries\n",
    "\n",
    "The concept of symmetry is at least as fundamental as the concept of a number. \n",
    "- The study of symmetries occurs particularly in geometry, and dates as far back as 2,500 years ago. \n",
    "- However, while symmetry examples are often geometric, the concept has wide applicability. \n",
    "    - To understand non-geometric applications of symmetry, we will be treating symmetry in an axiomatic form using group theory.\n",
    "    \n",
    "First, we need the concept of a (transformation) **group**.\n",
    "    "
   ]
  },
  {
   "cell_type": "markdown",
   "metadata": {
    "slideshow": {
     "slide_type": "slide"
    }
   },
   "source": [
    "## Definition of a Group\n",
    "\n",
    "\n",
    "A group consists of:\n",
    "1. A set $G$,\n",
    "2. A definition of a product between two elements, such that $\\forall A,B \\in G$, $A B \\in G$. The product has the following axioms:\n",
    "    1. (Associative) The product is associative: $A(BC) = (AB)C$ and holds for all $A,B,C \\in G$.\n",
    "    2. (Identity) There exists an element $I \\in G$ with the property that $I A = A = A I$ for all $I \\in G$.\n",
    "        - $I$ is unique and is called the identity of $G$.\n",
    "    3. (Inverse) To each $A \\in G$ there exists $A^{-1} \\in G$ with the property that $A A^{-1} = I = A^{-1} A$.\n",
    "        - $A^{-1}$ is unique and is called the inverse of $A$.\n",
    "    "
   ]
  },
  {
   "cell_type": "markdown",
   "metadata": {
    "slideshow": {
     "slide_type": "slide"
    }
   },
   "source": [
    "### Extra Properties\n",
    "\n",
    "6. (Commutative (**Abelian**) groups) If $AB=BA$ for all $A,B \\in G$, we call $G$ an Abelian or commutative group.\n",
    "\n",
    "7. (Finite & Infinite groups) If $G$ has a finite number of elements it is called a finite group, otherwise it is an infinite group.\n",
    "\n",
    "8. (Linear Group) If $T \\in G$ is a linear transformation, $G$ is a linear group\n",
    "    - That is, $\\forall T \\in G$, $T$ is a linear transformation, i.e., $T(x+x')= T(x) + T(x')$ and $T(\\alpha x) = \\alpha T(x)$ for any scalar $\\alpha$. \n",
    "    \n",
    "9. (General Linear Group) (simplified definition) Let $\\text{GL}(n,\\mathbb{R})$ denote the set of all bijective linear transformations of $\\mathbb{R}^n$ into $\\mathbb{R}^n$.\n",
    "    - Matrix multiplication is the group operation.\n",
    "    - The Identity element $I$ is the $n \\times n$ identity matrix. \n",
    "    - Bijective implies the matrix has an inverse.\n",
    "    - Hence, $\\text{GL}(n,\\mathbb{R})$ is the set of all nonsingular matrices $T \\in \\mathbb{R}^{n\\times n}$.\n",
    "    - This group is nonabelian if $n > 1$. That means, $\\exists A,B \\in \\text{GL}(n,\\mathbb{R})$ such that $AB \\neq BA$ if $n > 1$."
   ]
  },
  {
   "cell_type": "markdown",
   "metadata": {
    "slideshow": {
     "slide_type": "slide"
    }
   },
   "source": [
    "### General Linear Transformation Group of Images\n",
    "\n",
    "In the following examples we will consider an input $x \\in \\mathbb{R}^{3 m^2}$ representing a vectorized $m \\times m$ RGB image. \n",
    "    \n",
    "We now define general linear groups of transformations over the images.\n",
    "- We will call these **general linear transformation groups**.\n",
    "- The general linear transformation group of our image is $\\text{GL}(3 m^2,\\mathbb{R})$.\n",
    "\n",
    "Examples ($\\equiv$ means \"defined as\"):\n",
    "1. $G_\\text{rot} \\equiv \\{T^{(\\theta)}\\}_{\\theta\\in \\{0^\\circ,90^\\circ,180^\\circ,270^\\circ\\}}$, which rotates the image by $\\theta$ degrees, where $T^{(0)}$ is the identity element.\n",
    "\n",
    "2. $G_\\text{flip} \\equiv \\{T^{(v)}, T^{(h)},T^{(180^\\circ)}, T^{(0)}\\}$, which are vertical flip, horizontal flip, $180^\\circ$ rotation and identity transformation, respectively. Note that rotation $T^{(180^\\circ)}$ is needed in $G_\\text{flip}$ to satisfy the group requirements."
   ]
  },
  {
   "cell_type": "markdown",
   "metadata": {
    "slideshow": {
     "slide_type": "slide"
    }
   },
   "source": [
    "Examples of transformations from $G_\\text{rot}$:\n",
    "<center><img src=\"Frots.png\" width=300px /></center>"
   ]
  },
  {
   "cell_type": "markdown",
   "metadata": {
    "slideshow": {
     "slide_type": "slide"
    }
   },
   "source": [
    "**Q:** Can the $45^\\circ$ rotation $T^{(45)} \\in GL(3 m^2,\\mathbb{R})$?"
   ]
  },
  {
   "cell_type": "markdown",
   "metadata": {
    "slideshow": {
     "slide_type": "fragment"
    }
   },
   "source": [
    "**A:** No. Note that $T^{(45)}$ is not invertible. since anything at the corners of the image will be cut from the output.\n",
    "\n",
    "<center><img src=\"45dog.png\" width=600px/></center>"
   ]
  },
  {
   "cell_type": "markdown",
   "metadata": {
    "slideshow": {
     "slide_type": "fragment"
    }
   },
   "source": [
    "**Q:** Can the $45^\\circ$ rotation and scaling $T^{(45 \\text{ & scale})} \\in G(3 m^2,\\mathbb{R})$?"
   ]
  },
  {
   "cell_type": "markdown",
   "metadata": {
    "slideshow": {
     "slide_type": "fragment"
    }
   },
   "source": [
    "**A::** No. In the definition of a group, if $A,B \\in G$, then $A B \\in G$. But that does not happen in this scenario:\n",
    "\n",
    "<center><img src=\"45scaledog.png\" width=800px/></center>"
   ]
  },
  {
   "cell_type": "markdown",
   "metadata": {
    "slideshow": {
     "slide_type": "slide"
    }
   },
   "source": [
    "### An important group: The permutation group\n",
    "\n",
    "- A permutation group $G$ is a group whose elements are permutations of a given set $A$ and whose group operation is the composition of permutations in G \n",
    "    - Given a set $A$, a permutation of $A$ is a function $f : A \\to A$ which is a bijection. A permutation group of $A$ is a set of permutations of $A$ that forms a group under function composition.\n",
    "    - We’ll focus specifically on the case when $A = \\{1, \\ldots, n\\}$ for some fixed integer $n \\geq 1$. This means each group element will permute this set. \n",
    "        - For example if $A = \\{1, 2, 3\\}$ then a permutation $\\pi$ might have $\\pi(1) = 2$, $\\pi(2) = 1$, and $\\pi(3) = 3$.\n",
    "        \n",
    "        "
   ]
  },
  {
   "cell_type": "markdown",
   "metadata": {
    "slideshow": {
     "slide_type": "fragment"
    }
   },
   "source": [
    "- Example: Examples of permutation groups include \n",
    "    - the symmetric group $\\mathbb{S}_n$ (of order $n!$), \n",
    "        - The symmetric group $\\mathbb{S}_n$ is the group of all permutations of the set $\\{1, 2, \\ldots, n\\}$.\n",
    "    - the alternating group $\\mathbb{A}_n$ (of order $n!/2$ for $n\\geq 2$), \n",
    "    - the cyclic group $\\mathbb{C}_n$ (of order $n$), and \n",
    "    - the dihedral group $\\mathbb{D}_n$ (of order $2n$)."
   ]
  },
  {
   "cell_type": "markdown",
   "metadata": {
    "slideshow": {
     "slide_type": "slide"
    }
   },
   "source": [
    "#### Applications of the Symmetric Group\n",
    "\n",
    "- A 3D point could is a sequence of $m$ 3D points ${\\bf x} \\in \\mathbb{R}^{m \\times 3}$\n",
    "    - Representations of a point cloud should not depend on the order of the $m$ points in ${\\bf x}$.\n",
    "    \n",
    "    \n",
    "<center> <img src=\"car.gif\" width=200px/> </center>"
   ]
  },
  {
   "cell_type": "markdown",
   "metadata": {
    "slideshow": {
     "slide_type": "fragment"
    }
   },
   "source": [
    "- A $n$-size graph is a sequence of $n$ nodes and $n^2$ edges ${\\bf A} \\in \\mathbb{R}^{n\\times n \\times d}$ (**adjacency tensor**), where $d \\geq 1$ is a feature vector (may include node attributes, as we will discuss in our class on graph representations).\n",
    "    - Representations of a graph should not depend on to the oder of the $n$ nodes in the adjacency tensor.\n",
    "    \n",
    "<center><img src=\"Graphs.png\" width=300px/> </center>\n",
    "\n",
    "##### Common Mistake\n",
    "\n",
    "- Above we see that we want our final representations to be invariant (equivariant) to the symmetric group $\\mathbb{S}_n$.\n",
    "    - But the symmetric group acts on integer values (i.e., permuting indices), not matrices or tensors.\n",
    "    - It is common to find papers on point clouds that will erroneously say $\\pi \\in \\mathbb{S}_n$ and then apply $\\pi \\circ {\\bf x}$.\n",
    "\n",
    "- We will now introduce the concept of group representations (actions of a group on a space)"
   ]
  },
  {
   "cell_type": "markdown",
   "metadata": {
    "slideshow": {
     "slide_type": "slide"
    }
   },
   "source": [
    "### Group Representations\n",
    "\n",
    "For us, the concept of group insofar as it acts as a transformation on an input. \n",
    "\n",
    "A (linear finite dimensional) *group representation* $\\rho : G \\to \\text{GL}(m,\\mathbb{R})$ associates each $g \\in G$ to an invertible matrix $\\rho(g) \\in \\mathbb{R}^{m \\times m}$ that acts on $\\mathbb{R}^m$.\n",
    "\n",
    "- The representation satisfies:\n",
    "    - for the identity element $ e \\in G$: $\\rho(e) = I$ is the identity matrix.\n",
    "    - $\\forall g_1,g_2 \\in G : \\rho(g_1g_2) = \\rho(g_1)\\rho(g_2),$ and therefore also $\\rho(g^{-1}) = \\rho(g)^{-1}$. \n",
    "    \n",
    "The representation specifies how objects transform under the group, and can be considered a specification of the type of an object.\n",
    "\n",
    "- **Set representation example**: $\\pi \\in \\mathbb{S}_n$ be a permutation of $\\{1,\\ldots,n\\}$. Define $\\rho(\\pi)$ as the (linear) *group representation* of $\\pi$ that will permute the 3D points in the sequence ${\\bf x} \\in \\mathbb{R}^{n \\times 3}$ according to the permutation provided by $\\pi$.\n",
    "    - Hence, $\\text{vec}({\\bf x}') = \\rho(\\pi) \\text{vec}({\\bf x})$ is a sequence of 3D points permuted according to the permutation given in $\\pi$."
   ]
  },
  {
   "cell_type": "markdown",
   "metadata": {
    "slideshow": {
     "slide_type": "slide"
    }
   },
   "source": [
    "### Group-Invariant ($G$-Invariant) Transformation\n",
    "\n",
    "- Today's class is based on a few works, but our presentation focuses mostly on [(Mouli & Ribeiro, ICLR 2021)](https://openreview.net/pdf?id=7t1FcJUWhi3), which offers an application to causality that we will revist later in the course.\n",
    "\n",
    "----\n",
    "- Let $G$ be a discrete transformation group from $T:\\mathbb{R}^m \\to \\mathbb{R}^m$.\n",
    "    - $T$ may be a *group representation* $\\rho(g)$, $g \\in G$.\n",
    "- A transformation $\\bar{T}$ is $G$-invariant iff $\\forall T \\in G$ and $\\forall {\\bf x} \\in \\mathbb{R}^m$ we have $$\\bar{T}(T {\\bf x}) = \\bar{T} {\\bf x}.$$\n",
    "    - Since the above is true for all ${\\bf x}$, then $$\\bar{T} \\circ T  = \\bar{T}.$$\n",
    "\n",
    "- **Lemma:** Reynolds operator (Billik and Rota, 1960). The transformation $$\\bar{T} = \\frac{1}{|G|} \\sum_{T \\in G} T,$$ is $G$-invariant. "
   ]
  },
  {
   "cell_type": "markdown",
   "metadata": {
    "slideshow": {
     "slide_type": "fragment"
    }
   },
   "source": [
    "**Proof:** Consider an arbitrary transformation $T_\\dagger \\in G$. Then \n",
    "$$\\bar{T} \\circ T_\\dagger = \\frac{1}{\\vert G \\vert}\\sum_{T \\in G} T \\circ T_\\dagger = \\frac{1}{\\vert G \\vert}\\sum_{T' \\in G_\\dagger} T' ,$$\n",
    "where we define $G_\\dagger = \\{T \\circ T_\\dagger: \\forall T \\in G \\}$. \n",
    "\n",
    "- Now, in order to prove $\\bar{T} \\circ T_\\dagger = \\bar{T}$, we only need to show that $G_\\dagger = G$.  \n",
    "- Since groups are closed under compositions, we have $\\forall T \\in G$, $T \\circ T_\\dagger \\in G$, and thus $G_\\dagger  \\subseteq G$. \n",
    "- Finally, since $T_\\dagger$ is a bijection and $T_a \\circ T_\\dagger = T_b \\circ T_\\dagger$ only if $T_a = T_b$ for any $T_a, T_b \\in G$, it must be that  $|G_\\dagger| = |G|$. \n",
    "- Hence, $G_\\dagger  = G$."
   ]
  },
  {
   "cell_type": "markdown",
   "metadata": {
    "slideshow": {
     "slide_type": "slide"
    }
   },
   "source": [
    "### Group-Equivaviant ($G$-Equivariant) Transformation\n",
    "\n",
    "- Equivariance requires that transforming the input is the same as transforming the output\n",
    "- Let $G$ be a discrete transformation group from $T:\\mathbb{R}^a \\to \\mathbb{R}^a$.\n",
    "- (Special case) A function $f:\\mathbb{R}^m \\to \\mathbb{R}^m$ is $G$-equivariant iff $\\forall T \\in G$ and $\\forall {\\bf x} \\in \\mathbb{R}^m$ we have $$f(T {\\bf x}) = T f({\\bf x}).$$\n",
    "    - (More general) A transformation $\\bar{T}$ is $G$-equivariant iff $\\forall g \\in G$ and $\\forall {\\bf x} \\in \\mathbb{R}^m$ we have $$\\bar{T}(\\rho_1(g) {\\bf x}) = \\rho_2(g) \\bar{T} {\\bf x},$$ where \n",
    "        \n",
    "\n",
    "\n",
    "- We will first focus on G-invariant representations. \n",
    "    - G-equivariant representation will appear at the end of the lecture"
   ]
  },
  {
   "cell_type": "markdown",
   "metadata": {
    "slideshow": {
     "slide_type": "slide"
    }
   },
   "source": [
    "### $G$-Invariant Representations\n",
    "\n",
    "- Our goal is to learn a neuron with\n",
    "    - Weights ${\\bf w} \\in \\mathbb{W}$ on a subspace $\\mathbb{W}$ \n",
    "    - Bias $b \\in \\mathbb{R}$\n",
    "    - And activation function $\\sigma:\\mathbb{R} \\to \\mathbb{R}$.\n",
    "    - Such that $$\\sigma({\\bf w}^T x + b) = \\sigma({\\bf w}^T T x + b) , \\quad \\forall T \\in G. $$\n",
    "    \n",
    "- This means that the output of the neuron does not depend on the transformation of $G$ applied to the input.\n",
    "    - We call it a $G$-Invariant representation"
   ]
  },
  {
   "cell_type": "markdown",
   "metadata": {
    "slideshow": {
     "slide_type": "slide"
    }
   },
   "source": [
    "#### First: Understading Invariant Subspaces\n",
    "\n",
    "A subspace $M \\subseteq \\mathbb{R}^d$, $d \\geq 1$, is an invariant subspace of a linear transformation $\\bar{T}:\\mathbb{R}^d \\to \\mathbb{R}^d$ if \n",
    "$$\n",
    "{\\bf w}^T \\bar{T}  \\in M, ~\\forall {\\bf w}^T \\in M.\n",
    "$$\n",
    "\n",
    "For instance. The left 1-eigenspace is an invariant subspace defined as: $$\\text{Left-1-Eig}(\\bar{T}) = \\{ {\\bf w} \\in \\mathbb{R}^d | {\\bf w}^T \\bar{T} = {\\bf w}^T \\}.$$"
   ]
  },
  {
   "cell_type": "markdown",
   "metadata": {
    "slideshow": {
     "slide_type": "slide"
    }
   },
   "source": [
    "#### Second: Reynods Operator Eigenvalues\n",
    "\n",
    "- Note that $\\bar{T}$ is a projection (i.e., $\\bar{T}^2 = \\bar{T}$), all the eigenvalues of $\\bar{T}$ are either 0 or 1.\n",
    "    - You can verify this:  $\\bar{T}^2 = \\bar{T} \\frac{1}{|G|} \\sum_{T \\in G} T =  \\frac{1}{|G|} \\sum_{T \\in G} \\bar{T} T = \\frac{1}{\\vert G \\vert}\\sum_{T' \\in G_\\dagger} T' = \\frac{1}{|G|} \\sum_{T \\in G} T = \\bar{T}$\n",
    "- Note:\n",
    "    - Since $T \\in G$, $T:\\mathbb{R}^d \\to \\mathbb{R}^d$, is invertible, it would have $d$ non-zero eigenvalues (full rank)\n",
    "    - But the average $\\bar{T}$ may not be full rank!"
   ]
  },
  {
   "cell_type": "markdown",
   "metadata": {
    "slideshow": {
     "slide_type": "slide"
    }
   },
   "source": [
    "#### $G$-Invariant Neuron\n",
    "\n",
    "**Proposition (G-invariant neuron):** \n",
    "\n",
    "- Let $\\mathcal{W}$ denote the right eigenspace corresponding to the eigenvalue 1 of the Reynolds operator $\\bar{T}$ for the group $G$.\n",
    "\n",
    "- Let ${\\bf v}_1,\\ldots,{\\bf v}_k$ be the left eigenvectors of $\\bar{T}$. That is,\n",
    "$$\n",
    " {\\bf v}_i^T \\bar{T}  = \\lambda_i {\\bf v}_i, \\quad i =1,\\ldots,k.\n",
    "$$\n",
    "- Since $\\bar{T}$ is a projection operator, \n",
    "$$\n",
    " {\\bf v}_i^T \\bar{T}  = {\\bf v}_i, \\quad i =1,\\ldots,k.\n",
    "$$\n"
   ]
  },
  {
   "cell_type": "markdown",
   "metadata": {
    "slideshow": {
     "slide_type": "fragment"
    }
   },
   "source": [
    "- Now consider a vector of neuron weights ${\\bf w}$.\n",
    "- Consider a set of free parameters $\\{\\alpha_i\\}_{i=1}^k$, $\\alpha_i \\in \\mathbb{R}$ and a bias $b \\in \\mathbb{R}$."
   ]
  },
  {
   "cell_type": "markdown",
   "metadata": {
    "slideshow": {
     "slide_type": "fragment"
    }
   },
   "source": [
    "- Define ${\\bf w}^T = \\sum_{i=1}^{k} \\alpha_i {\\bf v}_i^T$.\n",
    "    - Note that $\\mathcal{W} = \\text{span}({\\bf v}_1,\\ldots,{\\bf v}_k)$\n",
    "        - $\\text{span}({\\bf v}_1,\\ldots,{\\bf v}_k)$ is the space defined by all linear combinations of the vectors ${\\bf v}_1,\\ldots,{\\bf v}_k$.\n",
    "    - Then, by construction ${\\bf w} \\in \\mathcal{W}$."
   ]
  },
  {
   "cell_type": "markdown",
   "metadata": {
    "slideshow": {
     "slide_type": "fragment"
    }
   },
   "source": [
    "- Consider a transformed input ${\\bf x}' = T {\\bf x}$, $T \\in G$."
   ]
  },
  {
   "cell_type": "markdown",
   "metadata": {
    "slideshow": {
     "slide_type": "fragment"
    }
   },
   "source": [
    "- Consider an activation function $\\sigma:\\mathbb{R} \\to \\mathbb{R}$."
   ]
  },
  {
   "cell_type": "markdown",
   "metadata": {
    "slideshow": {
     "slide_type": "fragment"
    }
   },
   "source": [
    "- **Then, the neuron is $G$-invariant:**  $$\\sigma({\\bf w}^T {\\bf x}' + b) = \\sigma({\\bf w}^T {\\bf x} + b).$$"
   ]
  },
  {
   "cell_type": "markdown",
   "metadata": {
    "slideshow": {
     "slide_type": "fragment"
    }
   },
   "source": [
    "**Proof:**\n",
    "- Note that since $\\bar{T}$ is a projection operator, $\\lambda_i = 1$,$i=1,\\ldots,k$.\n",
    "    - Also note that ${\\bf w}^T  = \\sum_{i=1}^{k} \\alpha_i {\\bf v}_i^T = \\sum_{i=1}^{k} \\alpha_i {\\bf v}_i^T \\bar{T}  =  {\\bf w}^T \\bar{T} $.\n",
    "- Hence, ${\\bf w}^T {\\bf x}' + b = {\\bf w}^T \\bar{T} {\\bf x}' + b =  {\\bf w}^T \\bar{T}\\, T {\\bf x} + b = {\\bf w}^T \\bar{T} {\\bf x} + b = {\\bf w}^T {\\bf x} + b$.\n",
    "    - Which means the neuron output is the same for ${\\bf x}'$ and ${\\bf x}$."
   ]
  },
  {
   "cell_type": "markdown",
   "metadata": {
    "slideshow": {
     "slide_type": "slide"
    }
   },
   "source": [
    "#### $G$-Invariant Neuron\n",
    "\n",
    "- Note that the parameters are $\\{\\alpha_i\\}_{i=1}^k$ and a bias $b$.\n",
    "- The number of parameters is at most the same as the original neuron (since $k\\leq d$), but often much smaller.\n",
    "- The computation takes $k$ inner products, one element-wise product, and a sum (a little more expensive but GPUs can do this very efficiently)."
   ]
  },
  {
   "cell_type": "markdown",
   "metadata": {
    "slideshow": {
     "slide_type": "slide"
    }
   },
   "source": [
    "### Example\n",
    "\n",
    "- Task: MNIST handwritten digit classification task.\n",
    "\n",
    "- Our tranformation group of interest is the $G_\\text{rot} \\equiv \\{T^{(\\theta)}\\}_{k\\in \\{0^\\circ,90^\\circ,180^\\circ,270^\\circ\\}}$, which rotates the image by $\\theta$ degrees, where $T^{(0)}$ is the identity element.\n",
    "\n",
    "- Consider the MNIST dataset of handwritten digits:\n",
    "<center><img src=\"example_image.png\" width=300px /></center>\n",
    "\n",
    "- The input to our transformation group is ${\\bf x}$, the **vectorized** image \n",
    "\n",
    "\n",
    "You will need files [g_invariance.py](g_invariance.py) and [mnist.pt](mnist.pt) to run the following examplar code."
   ]
  },
  {
   "cell_type": "code",
   "execution_count": 12,
   "metadata": {
    "slideshow": {
     "slide_type": "-"
    }
   },
   "outputs": [],
   "source": [
    "# See link above for g_invariance.py\n",
    "from g_invariance import *\n",
    "\n",
    "# Define 90-rotation function.\n",
    "def rotate_array(array, degree):\n",
    "    if (array.ndim == 2 and degree % 90 == 0):\n",
    "        return onp.rot90(array, degree // 90)\n",
    "    else:\n",
    "        print(\"Can only rorate 2D array by 90n degrees.\")\n",
    "        raise RuntimeError\n",
    "\n",
    "\n",
    "# Define average of 4 rotations (0, 90, 180, 270) function.\n",
    "def averaged_four_rotations(array):\n",
    "    buf = []\n",
    "    for degree in (0, 90, 180, 270):\n",
    "        buf.append(rotate_array(array, degree))\n",
    "    return sum(buf) / len(buf)\n",
    "\n"
   ]
  },
  {
   "cell_type": "markdown",
   "metadata": {
    "slideshow": {
     "slide_type": "slide"
    }
   },
   "source": [
    "### First: Get the eigenvectors of the Reynolds operator\n",
    "\n",
    "- First, we need to get the matrix of the Reynolds operator.\n",
    "    - Often our group transformations are given by a black-box:\n",
    "        - How do we get the tranformation matrix from a black-box?\n",
    "        - For all $i=1,\\ldots,d$, do $\\bar{T}_{:,i} = \\bar{T}_\\text{BB} e_i^T$, where $e_i = (0,\\ldots,1,\\ldots,0)$ is the $i$-th standard basis.\n",
    "        - The stack  all column $\\bar{T}_{:,i}$.\n",
    "\n",
    "\n"
   ]
  },
  {
   "cell_type": "code",
   "execution_count": 13,
   "metadata": {
    "slideshow": {
     "slide_type": "-"
    }
   },
   "outputs": [],
   "source": [
    "# Define number of CPUs to use for subspace generation.\n",
    "NUM_TRANSFORM_CPUS = 4\n",
    "\n",
    "#Important variables\n",
    "#  - transform_mat is out Reynods operator \\bar{T}\n",
    "#  - null_eigenvectors are the eigenvectors of \\bar{T}\n",
    "\n",
    "# Apply given transformation on onehot corresponding to each pixel of 2D image.\n",
    "# Use Python multiprocessing since it is work with numpy array.\n",
    "# If it is torch Tensor, it is recommended to use PyTorch wrapped version of\n",
    "# multiprocessing (torch.multiprocessing).\n",
    "def get_invariant_subspace(transform_func, shape):\n",
    "    # Use multiprocessing to get transformation matrix correspond to given\n",
    "    # transformation function by paralleling onehot dimensions.\n",
    "    numel = onp.prod(shape)\n",
    "    pool = mp.Pool(NUM_TRANSFORM_CPUS)\n",
    "    transformed_buf = pool.map(\n",
    "        partial(\n",
    "            transformed_onehot,\n",
    "            transform_func=transform_func, shape=shape,\n",
    "        ),\n",
    "        range(numel),\n",
    "    )\n",
    "    pool.close()\n",
    "    pool.join()\n",
    "    \n",
    "    # Form a single Reynods operator matrix from all results\n",
    "    transform_mat = onp.stack(transformed_buf,axis=1)\n",
    "\n",
    "    # Eigenvectors is used to describe the transformation subspace.\n",
    "    # Use right side of decomposition thus eigenvectors are located at rows.\n",
    "    # Transformation matrix is assumed to be real symmetric, thus Hermitian is\n",
    "    # used for optimization.\n",
    "    _, eigenvalues, eigenvectors = onp.linalg.svd(transform_mat,hermitian=True)\n",
    "\n",
    "    # Eigenvalues are sorted from high to low, thus for over rank eigenvectors,\n",
    "    # they are null eigenvectors assigned with 0 eigenvalues.\n",
    "    # We should focus on non-trival eigenvectors.\n",
    "    rank = onp.linalg.matrix_rank(onp.diag(eigenvalues),hermitian=True)\n",
    "    \n",
    "    eigenvectors = eigenvectors[:rank]\n",
    "    return transform_mat, eigenvectors.T\n"
   ]
  },
  {
   "cell_type": "markdown",
   "metadata": {
    "slideshow": {
     "slide_type": "slide"
    }
   },
   "source": [
    "### Eigenvectors of the Reynolds Operator"
   ]
  },
  {
   "cell_type": "code",
   "execution_count": 14,
   "metadata": {
    "slideshow": {
     "slide_type": "-"
    }
   },
   "outputs": [
    {
     "name": "stdout",
     "output_type": "stream",
     "text": [
      "The Reynolds operator tranformation matrix has dimension (784, 784)\n",
      "The subspace W is the subspace span by 196 eigenvectors\n",
      "--- First 16 eigenvectors shown as images ---\n"
     ]
    },
    {
     "data": {
      "image/png": "[encoded data removed]",
      "text/plain": [
       "<Figure size 1728x288 with 4 Axes>"
      ]
     },
     "metadata": {
      "needs_background": "light"
     },
     "output_type": "display_data"
    },
    {
     "data": {
      "image/png": "[encoded data removed]",
      "text/plain": [
       "<Figure size 1728x288 with 4 Axes>"
      ]
     },
     "metadata": {
      "needs_background": "light"
     },
     "output_type": "display_data"
    },
    {
     "data": {
      "image/png": "[encoded data removed]",
      "text/plain": [
       "<Figure size 1728x288 with 4 Axes>"
      ]
     },
     "metadata": {
      "needs_background": "light"
     },
     "output_type": "display_data"
    },
    {
     "data": {
      "image/png": "[encoded data removed]",
      "text/plain": [
       "<Figure size 1728x288 with 4 Axes>"
      ]
     },
     "metadata": {
      "needs_background": "light"
     },
     "output_type": "display_data"
    }
   ],
   "source": [
    "transform_mat, eigenvectors = get_invariant_subspace(averaged_four_rotations, (height, width))\n",
    "\n",
    "print(f\"The Reynolds operator tranformation matrix has dimension {transform_mat.shape}\")\n",
    "print(f\"The subspace W is the subspace span by {eigenvectors.shape[1]} eigenvectors\")\n",
    "print(\"--- First 16 eigenvectors shown as images ---\")\n",
    "showSubspace(eigenvectors, (height, width), ndim=16, channels=False)"
   ]
  },
  {
   "cell_type": "markdown",
   "metadata": {
    "slideshow": {
     "slide_type": "slide"
    }
   },
   "source": [
    "### Standard MLP\n",
    "\n",
    "- **First, we will test the performance of a standard MLP**\n",
    "- The Original Train data contains regular MNIST images\n",
    "- The Original Validation data contains regular MNIST images\n",
    "- The Original Test data contains regular MNIST images\n",
    "- The Rotated Test data contains rotated MNIST images (rotated at random)\n"
   ]
  },
  {
   "cell_type": "code",
   "execution_count": 19,
   "metadata": {},
   "outputs": [],
   "source": [
    "import torch.nn as nn\n",
    "\n",
    "class MLP(nn.Module):\n",
    "    def __init__(self):\n",
    "        super().__init__()\n",
    "        \n",
    "        # We will later replace the first layer with a G-invariant layer.\n",
    "        # Rest of the code remains the same.\n",
    "        self.first_layer = nn.Linear(784, 50)\n",
    "        \n",
    "        self.mlp = nn.Sequential(\n",
    "                self.first_layer,\n",
    "                nn.ReLU(),\n",
    "                nn.Linear(50, 10)\n",
    "        )\n",
    "                \n",
    "    def forward(self, X):\n",
    "        out = self.mlp(X)\n",
    "        return out\n",
    "        \n",
    "model = MLP()"
   ]
  },
  {
   "cell_type": "code",
   "execution_count": 20,
   "metadata": {
    "slideshow": {
     "slide_type": "-"
    }
   },
   "outputs": [
    {
     "name": "stdout",
     "output_type": "stream",
     "text": [
      "===== ========\n",
      "Epoch Train Accuracy\n",
      "----- --------\n",
      "    1 0.837191\n",
      "    2 0.881836\n",
      "    3 0.895008\n",
      "    4 0.904400\n",
      "    5 0.909238\n",
      "    6 0.912992\n",
      "    7 0.914837\n",
      "    8 0.918475\n",
      "    9 0.921252\n",
      "   10 0.924050\n",
      "   12 0.925555\n",
      "   13 0.929452\n",
      "   15 0.931796\n",
      "   17 0.932742\n",
      "   18 0.932750\n",
      "   20 0.933319\n",
      "   21 0.934537\n",
      "   22 0.936521\n",
      "   26 0.937423\n",
      "   27 0.938605\n",
      "   30 0.938694\n",
      "   31 0.941817\n",
      "   37 0.942573\n",
      "   53 0.943196\n",
      "   61 0.944435\n",
      "   66 0.944688\n",
      "   85 0.945852\n",
      "  100 0.945048\n",
      "===== ========\n",
      "===== ========\n",
      "Data  \tAccuracy\n",
      "----- --------\n",
      "Original Train 0.986855\n",
      "Original Valid 0.945852\n",
      "Original Test  0.947650\n",
      "Rotated  Test  0.372948\n",
      "===== ========\n"
     ]
    }
   ],
   "source": [
    "# Standard MLP with 1 hidden layer.\n",
    "rng = torch.Generator(\"cpu\")\n",
    "rng.manual_seed(0)\n",
    "\n",
    "# Use Pytorch's pre-defined SGD optimizer\n",
    "optimizer = torch.optim.SGD(model.parameters(),lr=LR)\n",
    "\n",
    "best_acc = 0\n",
    "best_state_dict = copy.deepcopy(model.state_dict())\n",
    "print(\"=====\", \"=\" * 8)\n",
    "print(\"Epoch\", \"Train Accuracy\")\n",
    "print(\"-----\", \"-\" * 8)\n",
    "for epc in range(NUM_EPOCHS):\n",
    "    # Creates a mini-batch\n",
    "    for batch_cnt, batch_itr in enumerate(\n",
    "        torch.randperm(\n",
    "            len(train_input),\n",
    "            generator=rng,\n",
    "        )[0:NUM_SAMPLES].view(\n",
    "            NUM_BATCHES, BATCH_SIZE,\n",
    "        ),\n",
    "    ):\n",
    "        # Zero gradients of optimize\n",
    "        optimizer.zero_grad()\n",
    "        # Forward pass of model\n",
    "        train_output = model(train_input[batch_itr])\n",
    "        # Define loss\n",
    "        train_loss = torch.nn.functional.cross_entropy(train_output, train_target[batch_itr])\n",
    "        # Backprop\n",
    "        train_loss.backward()\n",
    "        # One gradient step\n",
    "        optimizer.step()\n",
    "        \n",
    "    valid_acc = accuracy(model, valid_input, valid_target)\n",
    "    if (valid_acc > best_acc):\n",
    "        print(\"{:5d} {:.6f}\".format(epc + 1, valid_acc))\n",
    "        best_acc = valid_acc\n",
    "        best_state_dict = copy.deepcopy(model.state_dict())\n",
    "    elif ((epc + 1) % 100 == 0):\n",
    "        print(\"{:5d} {:.6f}\".format(epc + 1, valid_acc))\n",
    "    else:\n",
    "        pass\n",
    "print(\"=====\", \"=\" * 8)\n",
    "model.load_state_dict(best_state_dict)\n",
    "train_acc = accuracy(model, train_input, train_target)\n",
    "valid_acc = accuracy(model, valid_input, valid_target)\n",
    "test_acc = accuracy(model, test_input, test_target)\n",
    "aug_test_acc = accuracy(model, aug_test_input, aug_test_target)\n",
    "print(\"=====\", \"=\" * 8)\n",
    "print(\"Data \", \"\\tAccuracy\")\n",
    "print(\"-----\", \"-\" * 8)\n",
    "print(\"Original Train\", \"{:.6f}\".format(train_acc))\n",
    "print(\"Original Valid\", \"{:.6f}\".format(valid_acc))\n",
    "print(\"Original Test \", \"{:.6f}\".format(test_acc))\n",
    "print(\"Rotated  Test \", \"{:.6f}\".format(aug_test_acc))\n",
    "print(\"=====\", \"=\" * 8)\n"
   ]
  },
  {
   "cell_type": "markdown",
   "metadata": {
    "slideshow": {
     "slide_type": "slide"
    }
   },
   "source": [
    "### G-Invariant MLP\n",
    "\n",
    "- **Now we will test the performance of a G-invariant MLP**\n",
    "- The Original Train data contains regular MNIST images\n",
    "- The Original Validation data contains regular MNIST images\n",
    "- The Original Test data contains regular MNIST images\n",
    "- The Rotated Test data contains rotated MNIST images (rotated at random)"
   ]
  },
  {
   "cell_type": "code",
   "execution_count": 34,
   "metadata": {},
   "outputs": [],
   "source": [
    "import math\n",
    "eigentensor = torch.from_numpy(eigenvectors).float()\n",
    "\n",
    "class GInvariantLayer(nn.Module):\n",
    "    \n",
    "    def __init__(self, input_dim, output_dim):\n",
    "        super().__init__()\n",
    "        \n",
    "        # Load the left 1-eigenvectors of the Reynolds operator that we computed before.\n",
    "        self.basis = eigentensor.T\n",
    "        assert self.basis.shape[1] == input_dim\n",
    "        \n",
    "        self.coeffs = nn.Parameter(torch.Tensor(output_dim, self.basis.shape[0], 1))\n",
    "        self.bias = nn.Parameter(torch.Tensor(output_dim))\n",
    "        \n",
    "        stdv = 1.0/math.sqrt(output_dim)\n",
    "        self.coeffs.data.uniform_(-stdv, stdv)\n",
    "        self.bias.data.zero_()\n",
    "    \n",
    "\n",
    "    def forward(self, X):\n",
    "        # Input shape: torch.Size([minibatch, input_dim])\n",
    "        \n",
    "        if self.basis.device != X.device:\n",
    "            self.basis = self.basis.to(X.device)\n",
    "\n",
    "        # Construct weight w \\in \\mathcal{W} (the left 1-eigenspace)\n",
    "        #      using the current learnable coefficients.\n",
    "        # coeffs: (output_dim, n_basis, 1)\n",
    "        # basis  : (n_basis, input_dim)\n",
    "        # result after torch.mul : (output_dim, n_basis, input_dim)\n",
    "        # result after sum : (output_dim, input_dim)\n",
    "        weights = torch.mul(self.coeffs, self.basis)\n",
    "        weights = weights.sum(dim=-2)\n",
    "\n",
    "        # Output shape: torch.Size([minibatch, output_dim])\n",
    "        out = X @ weights.T + self.bias\n",
    "\n",
    "        return out"
   ]
  },
  {
   "cell_type": "code",
   "execution_count": 35,
   "metadata": {},
   "outputs": [],
   "source": [
    "class GInvariantMLP(nn.Module):\n",
    "    def __init__(self):\n",
    "        super().__init__()\n",
    "        \n",
    "        # Replace the first layer with a G-invariant layer.\n",
    "        self.first_layer = GInvariantLayer(784, 50)\n",
    "        \n",
    "        self.mlp = nn.Sequential(\n",
    "                self.first_layer,\n",
    "                nn.ReLU(),\n",
    "                nn.Linear(50, 10)\n",
    "        )\n",
    "                \n",
    "    def forward(self, X):\n",
    "        out = self.mlp(X)\n",
    "        return out\n",
    "\n",
    "        \n",
    "model = GInvariantMLP()"
   ]
  },
  {
   "cell_type": "code",
   "execution_count": 36,
   "metadata": {
    "slideshow": {
     "slide_type": "-"
    }
   },
   "outputs": [
    {
     "name": "stdout",
     "output_type": "stream",
     "text": [
      "===== ========\n",
      "Epoch Train Accuracy\n",
      "----- --------\n",
      "    1 0.308690\n",
      "    2 0.390732\n",
      "    3 0.473029\n",
      "    4 0.488353\n",
      "    5 0.515366\n",
      "    6 0.522194\n",
      "    7 0.528756\n",
      "    8 0.564369\n",
      "    9 0.580975\n",
      "   10 0.585732\n",
      "   12 0.587812\n",
      "   13 0.601295\n",
      "   16 0.620082\n",
      "   18 0.621791\n",
      "   20 0.625342\n",
      "   22 0.631214\n",
      "   23 0.638681\n",
      "   24 0.643150\n",
      "   27 0.652897\n",
      "   30 0.654865\n",
      "   31 0.659390\n",
      "   35 0.667046\n",
      "   36 0.669251\n",
      "   37 0.669282\n",
      "   41 0.676899\n",
      "   44 0.681269\n",
      "   50 0.677041\n",
      "   55 0.682113\n",
      "   56 0.686409\n",
      "   57 0.688299\n",
      "   61 0.690130\n",
      "   77 0.692890\n",
      "   85 0.695984\n",
      "   90 0.696916\n",
      "   96 0.697655\n",
      "  100 0.695011\n",
      "===== ========\n",
      "===== ========\n",
      "Data   Accuracy\n",
      "----- --------\n",
      "Original Train 0.713258\n",
      "Original Valid 0.697655\n",
      "Original Test  0.709855\n",
      "Rotated  Test   0.709855\n",
      "===== ========\n"
     ]
    }
   ],
   "source": [
    "# G-invariant MLP with 1 hidden layer.\n",
    "rng = torch.Generator(\"cpu\")\n",
    "rng.manual_seed(0)\n",
    "\n",
    "# Use Pytorch's pre-defined SGD optimizer\n",
    "optimizer = torch.optim.SGD(model.parameters(),lr=LR)\n",
    "best_acc = 0\n",
    "best_state_dict = copy.deepcopy(model.state_dict())\n",
    "print(\"=====\", \"=\" * 8)\n",
    "print(\"Epoch\", \"Train Accuracy\")\n",
    "print(\"-----\", \"-\" * 8)\n",
    "linear_transform = torch.Tensor(transform_mat.T)\n",
    "for epc in range(NUM_EPOCHS):\n",
    "    for batch_cnt, batch_itr in enumerate(\n",
    "        torch.randperm(\n",
    "            len(train_input),\n",
    "            generator=rng,\n",
    "        )[0:NUM_SAMPLES].view(\n",
    "            NUM_BATCHES, BATCH_SIZE,\n",
    "        ),\n",
    "    ):\n",
    "        optimizer.zero_grad()\n",
    "        train_output = model.forward(\n",
    "            train_input[batch_itr],\n",
    "        )\n",
    "        train_loss = torch.nn.functional.cross_entropy(\n",
    "            train_output, train_target[batch_itr],\n",
    "        )\n",
    "        train_loss.backward()\n",
    "        optimizer.step()\n",
    "    valid_acc = accuracy(\n",
    "        model,\n",
    "        valid_input,\n",
    "        valid_target,\n",
    "    )\n",
    "    if (valid_acc > best_acc):\n",
    "        print(\"{:5d} {:.6f}\".format(epc + 1, valid_acc))\n",
    "        best_acc = valid_acc\n",
    "        best_state_dict = copy.deepcopy(model.state_dict())\n",
    "    elif ((epc + 1) % 50 == 0):\n",
    "        print(\"{:5d} {:.6f}\".format(epc + 1, valid_acc))\n",
    "    else:\n",
    "        pass\n",
    "print(\"=====\", \"=\" * 8)\n",
    "model.load_state_dict(best_state_dict)\n",
    "train_acc = accuracy(\n",
    "    model,\n",
    "    train_input,\n",
    "    train_target,\n",
    ")\n",
    "valid_acc = accuracy(\n",
    "    model,\n",
    "    valid_input,\n",
    "    valid_target,\n",
    ")\n",
    "test_acc = accuracy(\n",
    "    model,\n",
    "    test_input,\n",
    "    test_target,\n",
    ")\n",
    "aug_test_acc = accuracy(\n",
    "    model,\n",
    "    aug_test_input,\n",
    "    aug_test_target,\n",
    ")\n",
    "print(\"=====\", \"=\" * 8)\n",
    "print(\"Data  \", \"Accuracy\")\n",
    "print(\"-----\", \"-\" * 8)\n",
    "print(\"Original Train\", \"{:.6f}\".format(train_acc))\n",
    "print(\"Original Valid\", \"{:.6f}\".format(valid_acc))\n",
    "print(\"Original Test \", \"{:.6f}\".format(test_acc))\n",
    "print(\"Rotated  Test  \", \"{:.6f}\".format(aug_test_acc))\n",
    "print(\"=====\", \"=\" * 8)"
   ]
  },
  {
   "cell_type": "markdown",
   "metadata": {
    "slideshow": {
     "slide_type": "slide"
    }
   },
   "source": [
    "### G-equivariant Representations\n",
    "\n",
    "- Consider an input in $\\mathbb{R}^m$.\n",
    "- And the output in $\\mathbb{R}^k$.\n",
    "- Let ${\\bf W} \\in \\mathbb{R}^{k \\times m}$ be the neuron parameters\n",
    "- Equivariance requires that transforming the input is the same as transforming the output: $$\n",
    "{\\bf x} \\in \\mathbb{R}^m, \\forall g \\in G , \\quad \\rho_2(g) {\\bf W} {\\bf x} =  {\\bf W} \\rho_1(g) {\\bf x},\n",
    "$$ where $\\rho_1:G \\to \\mathbb{R}^{m \\times m}$ and $\\rho_2:G \\to \\mathbb{R}^{k \\times k}$."
   ]
  },
  {
   "cell_type": "markdown",
   "metadata": {
    "slideshow": {
     "slide_type": "fragment"
    }
   },
   "source": [
    "- Since the above is true for all ${\\bf x}$, then  $$\\rho_2(g) {\\bf W} \\rho_1(g)^{-1} =  {\\bf W},$$\n",
    "or equivalently  $$\\forall g \\in G, \\qquad \\rho_2(g) \\otimes \\rho_1(g^{-1})^T \\text{vec}({\\bf W})  =  \\text{vec}({\\bf W}),$$ where vec flattens the matrix into a vector, and so the whole transformation is $\\rho_2(g) \\otimes \\rho_1(g^{-1})^T = \\rho_{12}(g)$ that is a representation of how $g$ acts on matrices mapping from $A_1 \\to A_2$."
   ]
  },
  {
   "cell_type": "markdown",
   "metadata": {
    "slideshow": {
     "slide_type": "fragment"
    }
   },
   "source": [
    "- Note: Special operators acting on matrices (and tensors): \n",
    "    - $\\oplus$ is the direct sum which concatenates the matrices on the diagonal $$X \\oplus Y =\\begin{bmatrix} X & 0 \\\\ 0 & Y\\\\ \\end{bmatrix}$$  and facilitates multiple representations which are acted upon separately. \n",
    "    - $\\otimes$ is the Kronecker product, where for matrices ${\\bf A}$ and ${\\bf B}$ is defined as\n",
    "    $$\\mathbf {A} \\otimes \\mathbf {B} =\\begin{bmatrix}a_{11}\\mathbf {B} &\\cdots &a_{1n}\\mathbf {B} \\\\\\vdots &\\ddots &\\vdots \\\\a_{m1}\\mathbf {B} &\\cdots &a_{mn}\\mathbf {B} \\end{bmatrix}.$$\n",
    "        - Example (from Wikipedia) $${\\begin{bmatrix}1&2\\\\3&4\\\\\\end{bmatrix}}\\otimes {\\begin{bmatrix}0&5\\\\6&7\\\\\\end{bmatrix}}={\\begin{bmatrix}1{\\begin{bmatrix}0&5\\\\6&7\\\\\\end{bmatrix}}&2{\\begin{bmatrix}0&5\\\\6&7\\\\\\end{bmatrix}}\\\\3{\\begin{bmatrix}0&5\\\\6&7\\\\\\end{bmatrix}}&4{\\begin{bmatrix}0&5\\\\6&7\\\\\\end{bmatrix}}\\\\\\end{bmatrix}}={\\begin{bmatrix}1\\times 0&1\\times 5&2\\times 0&2\\times 5\\\\1\\times 6&1\\times 7&2\\times 6&2\\times 7\\\\3\\times 0&3\\times 5&4\\times 0&4\\times 5\\\\3\\times 6&3\\times 7&4\\times 6&4\\times 7\\\\\\end{bmatrix}}={\\begin{bmatrix}0&5&0&10\\\\6&7&12&14\\\\0&15&0&20\\\\18&21&24&28\\end{bmatrix}}.$$\n",
    "        "
   ]
  },
  {
   "cell_type": "markdown",
   "metadata": {
    "slideshow": {
     "slide_type": "slide"
    }
   },
   "source": [
    "### Group-Equivariant ($G$-Equivariant) Neurons\n",
    "\n",
    "- Note that equation $$\\forall g \\in G, \\qquad \\rho_2(g) \\otimes \\rho_1(g^{-1})^T \\text{vec}({\\bf W})  =  \\text{vec}({\\bf W})$$ has a familiar form.\n",
    "    - We can rewrite the above equation as $$T {\\bf x} = {\\bf x},$$ where $T = \\rho_2(g) \\otimes \\rho_1(g^{-1})^T$ and ${\\bf x} = \\text{vec}({\\bf W}).$"
   ]
  },
  {
   "cell_type": "markdown",
   "metadata": {
    "slideshow": {
     "slide_type": "fragment"
    }
   },
   "source": [
    "- The above is the equation required for a $G$-invariant representation.\n",
    "    - We can again use the Reynolds operator to find $\\bar{T}$ such that $\\forall {\\bf x} \\in \\mathbb{R}^{mk}$ and $$\\forall T \\in \\{\\rho_2(g) \\otimes \\rho_1(g^{-1})^T : \\forall g \\in G\\}$$ such that $$\\bar{T}(T {\\bf x}) = \\bar{T} {\\bf x}.$$\n",
    "    "
   ]
  },
  {
   "cell_type": "markdown",
   "metadata": {
    "slideshow": {
     "slide_type": "slide"
    }
   },
   "source": [
    "### Lie Groups (Optional)\n",
    "\n",
    "A Lie group is a continuous groups that uses infinitesimal generators\n",
    "- Lie theory provides a way of analyzing continuous groups in terms of their infinitesimal generators\n",
    "- The Lie Algebra $g$ of a Lie Group $G$ (a continuous group that forms a smooth manifold) is the tangent space at the identity $g := T_{id} G \\subseteq \\mathbb{R}^{m\\times m}$, which is a vector space of infinitesimal generators of group transformations from $G$.\n",
    "- The exponential map $\\exp : g \\to G$ maps back to the Lie Group and can be understood through the series $$\\exp(A) = \\sum_{t=0}^\\infty \\frac{A^t}{t!}.$$\n",
    "- A classic example is the rotation group $G = \\text{SO}(m)$ with matrices $\\mathbb{R}^{m\\times m}$ satisfying $R^T R = I$ and $\\det(R) = 1$.\n",
    "\n",
    "A good source of material for Lie Groups is Finzi, Marc, Max Welling, and Andrew Gordon Wilson. \"A Practical Method for Constructing Equivariant Multilayer Perceptrons for Arbitrary Matrix Groups.\" arXiv preprint arXiv:2104.09459 (2021)."
   ]
  },
  {
   "cell_type": "code",
   "execution_count": null,
   "metadata": {},
   "outputs": [],
   "source": [
    "\n"
   ]
  }
 ],
 "metadata": {
  "celltoolbar": "Slideshow",
  "kernelspec": {
   "display_name": "Python 3 (ipykernel)",
   "language": "python",
   "name": "python3"
  },
  "language_info": {
   "codemirror_mode": {
    "name": "ipython",
    "version": 3
   },
   "file_extension": ".py",
   "mimetype": "text/x-python",
   "name": "python",
   "nbconvert_exporter": "python",
   "pygments_lexer": "ipython3",
   "version": "3.9.12"
  },
  "latex_envs": {
   "LaTeX_envs_menu_present": true,
   "autoclose": false,
   "autocomplete": true,
   "bibliofile": "biblio.bib",
   "cite_by": "apalike",
   "current_citInitial": 1,
   "eqLabelWithNumbers": true,
   "eqNumInitial": 1,
   "hotkeys": {
    "equation": "Ctrl-E",
    "itemize": "Ctrl-I"
   },
   "labels_anchors": false,
   "latex_user_defs": false,
   "report_style_numbering": false,
   "user_envs_cfg": false
  }
 },
 "nbformat": 4,
 "nbformat_minor": 2
}
